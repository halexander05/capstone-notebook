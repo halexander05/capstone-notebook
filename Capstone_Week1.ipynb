{
 "cells": [
  {
   "cell_type": "markdown",
   "metadata": {},
   "source": [
    "## Capstone Project - The Battle of Neighborhoods (Week 1)"
   ]
  },
  {
   "cell_type": "markdown",
   "metadata": {},
   "source": [
    "**A description of the problem and a discussion of the background.**   "
   ]
  },
  {
   "cell_type": "markdown",
   "metadata": {},
   "source": [
    "Talking about typical Mexican drinks is an interesting topic for many people. The love for drinks like tequila, mezcal, and even pulque has always come from Mexicans. But Mexico, in addition to these so, has a huge variety of famous drinks that range from simple fresh waters to a called Tuba made with the flower of coconut trees in Colima and Nayarit.\n",
    "\n",
    "Knowing this, we can say that it would be competitive to start a beverage business, more specifically a bar.\n",
    "\n",
    "First of all, we must collect data from the entire beverage business in Mexico City, including its name, identification (address, latitude, longitude) and then look for the one that is most frequented by people. For active data we use FourSquare and apply folio to visualize a particular beverage business in which we will observe customer \"traffic\" and predict the appropriate location of a new bar in the city."
   ]
  },
  {
   "cell_type": "markdown",
   "metadata": {},
   "source": [
    "**A description of the data and how it will be used to solve the problem.** "
   ]
  },
  {
   "cell_type": "markdown",
   "metadata": {},
   "source": [
    "We will use the data collected from FourSquare to predict the proper location to start a new beverage business in town."
   ]
  },
  {
   "cell_type": "markdown",
   "metadata": {},
   "source": [
    "**Installing and Importing the required Libraries** "
   ]
  },
  {
   "cell_type": "code",
   "execution_count": 44,
   "metadata": {},
   "outputs": [
    {
     "name": "stdout",
     "output_type": "stream",
     "text": [
      "Collecting package metadata (current_repodata.json): done\n",
      "Solving environment: done\n",
      "\n",
      "# All requested packages already installed.\n",
      "\n"
     ]
    }
   ],
   "source": [
    "import requests # library to handle requests\n",
    "import pandas as pd # library for data analsysis\n",
    "import numpy as np # library to handle data in a vectorized manner\n",
    "import random # library for random number generation\n",
    "!conda install -c conda-forge folium=0.5.0 --yes\n",
    "import folium # plotting library"
   ]
  },
  {
   "cell_type": "markdown",
   "metadata": {},
   "source": [
    "**Credentials for FourSquare** "
   ]
  },
  {
   "cell_type": "code",
   "execution_count": 2,
   "metadata": {},
   "outputs": [
    {
     "name": "stdout",
     "output_type": "stream",
     "text": [
      "Your credentails:\n",
      "CLIENT_ID: D3S0DGXFOQB0OVI0J4AURKICYYGGH2FAI3XCMNPVAQNS4MIM\n",
      "CLIENT_SECRET:BULV32R1WKYCMVCDBJPE1SDNNYJIK340A5BXJMEIQEXOXGBG\n"
     ]
    }
   ],
   "source": [
    "CLIENT_ID = 'D3S0DGXFOQB0OVI0J4AURKICYYGGH2FAI3XCMNPVAQNS4MIM' # your Foursquare ID\n",
    "CLIENT_SECRET = 'BULV32R1WKYCMVCDBJPE1SDNNYJIK340A5BXJMEIQEXOXGBG' # your Foursquare Secret\n",
    "VERSION = '20201104'\n",
    "LIMIT = 50\n",
    "print('Your credentails:')\n",
    "print('CLIENT_ID: ' + CLIENT_ID)\n",
    "print('CLIENT_SECRET:' + CLIENT_SECRET)"
   ]
  },
  {
   "cell_type": "markdown",
   "metadata": {},
   "source": [
    "**Get request near Mexico City** "
   ]
  },
  {
   "cell_type": "code",
   "execution_count": 35,
   "metadata": {},
   "outputs": [],
   "source": [
    "import requests\n",
    "\n",
    "request_parameters = {\n",
    "    \"client_id\": CLIENT_ID,\n",
    "    \"client_secret\": CLIENT_SECRET,\n",
    "    \"v\": '20180605',\n",
    "    \"section\": \"drinks\",\n",
    "    \"near\": \"Mexico City\",\n",
    "    \"radius\": 1000,\n",
    "    \"limit\": 50}\n",
    "\n",
    "data = requests.get(\"https://api.foursquare.com/v2/venues/explore\", params=request_parameters)"
   ]
  },
  {
   "cell_type": "markdown",
   "metadata": {},
   "source": [
    "**Transform data into json then request geocode.** "
   ]
  },
  {
   "cell_type": "code",
   "execution_count": 36,
   "metadata": {},
   "outputs": [
    {
     "data": {
      "text/plain": [
       "dict_keys(['suggestedFilters', 'geocode', 'headerLocation', 'headerFullLocation', 'headerLocationGranularity', 'query', 'totalResults', 'suggestedBounds', 'groups'])"
      ]
     },
     "execution_count": 36,
     "metadata": {},
     "output_type": "execute_result"
    }
   ],
   "source": [
    "d = data.json()[\"response\"]\n",
    "d.keys()"
   ]
  },
  {
   "cell_type": "code",
   "execution_count": 37,
   "metadata": {},
   "outputs": [
    {
     "data": {
      "text/plain": [
       "('city', 'Mexico City', 'Mexico City')"
      ]
     },
     "execution_count": 37,
     "metadata": {},
     "output_type": "execute_result"
    }
   ],
   "source": [
    "d[\"headerLocationGranularity\"], d[\"headerLocation\"], d[\"headerFullLocation\"]"
   ]
  },
  {
   "cell_type": "code",
   "execution_count": 19,
   "metadata": {},
   "outputs": [
    {
     "data": {
      "text/plain": [
       "({'ne': {'lat': 19.436455795010176, 'lng': -99.1248708542881},\n",
       "  'sw': {'lat': 19.42266478678311, 'lng': -99.13609405995007}},\n",
       " 170)"
      ]
     },
     "execution_count": 19,
     "metadata": {},
     "output_type": "execute_result"
    }
   ],
   "source": [
    "d[\"suggestedBounds\"], d[\"totalResults\"]"
   ]
  },
  {
   "cell_type": "code",
   "execution_count": 39,
   "metadata": {},
   "outputs": [
    {
     "data": {
      "text/plain": [
       "{'what': '',\n",
       " 'where': 'mexico city',\n",
       " 'center': {'lat': 19.42847, 'lng': -99.12766},\n",
       " 'displayString': 'Mexico City, DF, Mexico',\n",
       " 'cc': 'MX',\n",
       " 'geometry': {'bounds': {'ne': {'lat': 19.515304989460464,\n",
       "    'lng': -99.05579900650167},\n",
       "   'sw': {'lat': 19.356858007471764, 'lng': -99.25983899084375}}},\n",
       " 'slug': 'mexico-city',\n",
       " 'longId': '72057594041458533'}"
      ]
     },
     "execution_count": 39,
     "metadata": {},
     "output_type": "execute_result"
    }
   ],
   "source": [
    "d[\"geocode\"]"
   ]
  },
  {
   "cell_type": "markdown",
   "metadata": {},
   "source": [
    "**We start creating group including information which is recommended.** "
   ]
  },
  {
   "cell_type": "code",
   "execution_count": 40,
   "metadata": {},
   "outputs": [
    {
     "data": {
      "text/plain": [
       "dict_keys(['type', 'name', 'items'])"
      ]
     },
     "execution_count": 40,
     "metadata": {},
     "output_type": "execute_result"
    }
   ],
   "source": [
    "d[\"groups\"][0].keys()"
   ]
  },
  {
   "cell_type": "code",
   "execution_count": 41,
   "metadata": {},
   "outputs": [
    {
     "data": {
      "text/plain": [
       "('Recommended Places', 'recommended')"
      ]
     },
     "execution_count": 41,
     "metadata": {},
     "output_type": "execute_result"
    }
   ],
   "source": [
    "d[\"groups\"][0][\"type\"], d[\"groups\"][0][\"name\"]"
   ]
  },
  {
   "cell_type": "markdown",
   "metadata": {},
   "source": [
    "**Creating items of gims and their attributes - id, address, name, etc** "
   ]
  },
  {
   "cell_type": "code",
   "execution_count": 42,
   "metadata": {},
   "outputs": [
    {
     "name": "stdout",
     "output_type": "stream",
     "text": [
      "number of items: 50\n"
     ]
    },
    {
     "data": {
      "text/plain": [
       "{'reasons': {'count': 0,\n",
       "  'items': [{'summary': 'This spot is popular',\n",
       "    'type': 'general',\n",
       "    'reasonName': 'globalInteractionReason'}]},\n",
       " 'venue': {'id': '4f3f65d4e4b0ae0655090150',\n",
       "  'name': 'Pulqueria la Elegante',\n",
       "  'location': {'lat': 19.42349945614243,\n",
       "   'lng': -99.12861024918861,\n",
       "   'labeledLatLngs': [{'label': 'display',\n",
       "     'lat': 19.42349945614243,\n",
       "     'lng': -99.12861024918861}],\n",
       "   'cc': 'MX',\n",
       "   'state': 'Distrito Federal',\n",
       "   'country': 'México',\n",
       "   'formattedAddress': ['Distrito Federal', 'México']},\n",
       "  'categories': [{'id': '50327c8591d4c4b30a586d5d',\n",
       "    'name': 'Brewery',\n",
       "    'pluralName': 'Breweries',\n",
       "    'shortName': 'Brewery',\n",
       "    'icon': {'prefix': 'https://ss3.4sqi.net/img/categories_v2/food/brewery_',\n",
       "     'suffix': '.png'},\n",
       "    'primary': True}],\n",
       "  'photos': {'count': 0, 'groups': []}},\n",
       " 'referralId': 'e-4-4f3f65d4e4b0ae0655090150-0'}"
      ]
     },
     "execution_count": 42,
     "metadata": {},
     "output_type": "execute_result"
    }
   ],
   "source": [
    "items = d[\"groups\"][0][\"items\"]\n",
    "print(\"number of items: %i\" % len(items))\n",
    "items[0]"
   ]
  },
  {
   "cell_type": "markdown",
   "metadata": {},
   "source": [
    "**Based on that we start to organize what we have got.** "
   ]
  },
  {
   "cell_type": "code",
   "execution_count": 43,
   "metadata": {},
   "outputs": [
    {
     "name": "stdout",
     "output_type": "stream",
     "text": [
      "{'lat': 19.42349945614243, 'lng': -99.12861024918861, 'labeledLatLngs': [{'label': 'display', 'lat': 19.42349945614243, 'lng': -99.12861024918861}], 'cc': 'MX', 'state': 'Distrito Federal', 'country': 'México', 'formattedAddress': ['Distrito Federal', 'México']}\n",
      "{'address': 'Alhóndiga 26', 'lat': 19.431050123135268, 'lng': -99.12713826475824, 'labeledLatLngs': [{'label': 'display', 'lat': 19.431050123135268, 'lng': -99.12713826475824}], 'cc': 'MX', 'city': 'Ciudad de México', 'state': 'Distrito Federal', 'country': 'México', 'formattedAddress': ['Alhóndiga 26', 'Ciudad de México, Distrito Federal', 'México']}\n",
      "{'address': 'República de Guatemala 4', 'crossStreet': 'República de Brasil', 'lat': 19.43530583753121, 'lng': -99.13365729219127, 'labeledLatLngs': [{'label': 'display', 'lat': 19.43530583753121, 'lng': -99.13365729219127}], 'postalCode': '06020', 'cc': 'MX', 'neighborhood': 'Downtown', 'city': 'Ciudad de México', 'state': 'Distrito Federal', 'country': 'México', 'formattedAddress': ['República de Guatemala 4 (República de Brasil)', '06020 Ciudad de México, Distrito Federal', 'México']}\n",
      "{'address': 'Regina #48', 'crossStreet': 'Isabel la Católica', 'lat': 19.427066741873226, 'lng': -99.13701682236837, 'labeledLatLngs': [{'label': 'display', 'lat': 19.427066741873226, 'lng': -99.13701682236837}], 'postalCode': '06050', 'cc': 'MX', 'city': 'Cuauhtemoc', 'state': 'Distrito Federal', 'country': 'México', 'formattedAddress': ['Regina #48 (Isabel la Católica)', '06050 Cuauhtémoc, Ciudad de México, DF, Distrito Federal', 'México']}\n",
      "{'address': 'Republica de Guatemala 32', 'lat': 19.43497451800238, 'lng': -99.13229242726015, 'labeledLatLngs': [{'label': 'display', 'lat': 19.43497451800238, 'lng': -99.13229242726015}], 'postalCode': '06000', 'cc': 'MX', 'city': 'Ciudad de México', 'state': 'Distrito Federal', 'country': 'México', 'formattedAddress': ['Republica de Guatemala 32', '06000 Ciudad de México, Distrito Federal', 'México']}\n",
      "{'address': 'Emiliano Zapata', 'crossStreet': 'Jesús María', 'lat': 19.4331147788435, 'lng': -99.1278923473317, 'labeledLatLngs': [{'label': 'display', 'lat': 19.4331147788435, 'lng': -99.1278923473317}], 'cc': 'MX', 'city': 'Ciudad de México', 'state': 'Distrito Federal', 'country': 'México', 'formattedAddress': ['Emiliano Zapata (Jesús María)', 'Ciudad de México, Distrito Federal', 'México']}\n",
      "{'address': '5 de Febrero 53', 'crossStreet': 'Regina', 'lat': 19.42776971264625, 'lng': -99.13523479451294, 'labeledLatLngs': [{'label': 'display', 'lat': 19.42776971264625, 'lng': -99.13523479451294}], 'postalCode': '06090', 'cc': 'MX', 'neighborhood': 'Downtown', 'city': 'Centro Histórico', 'state': 'Distrito Federal', 'country': 'México', 'formattedAddress': ['5 de Febrero 53 (Regina)', '06090 Centro Histórico, Distrito Federal', 'México']}\n",
      "{'address': 'Madero 57', 'crossStreet': 'Isabel La Católica y Palma', 'lat': 19.433335496558474, 'lng': -99.13560257698492, 'labeledLatLngs': [{'label': 'display', 'lat': 19.433335496558474, 'lng': -99.13560257698492}], 'postalCode': '06000', 'cc': 'MX', 'neighborhood': 'Downtown', 'city': 'Cuauhtemoc', 'state': 'Distrito Federal', 'country': 'México', 'formattedAddress': ['Madero 57 (Isabel La Católica y Palma)', '06000 Cuauhtémoc, Distrito Federal', 'México']}\n",
      "{'lat': 19.428088165731538, 'lng': -99.13260508047564, 'labeledLatLngs': [{'label': 'display', 'lat': 19.428088165731538, 'lng': -99.13260508047564}], 'cc': 'MX', 'country': 'México', 'formattedAddress': ['México']}\n",
      "{'lat': 19.42647139281787, 'lng': -99.1324096546437, 'labeledLatLngs': [{'label': 'display', 'lat': 19.42647139281787, 'lng': -99.1324096546437}], 'cc': 'MX', 'country': 'México', 'formattedAddress': ['México']}\n",
      "{'address': 'San Jeronimo 40', 'crossStreet': 'Isabel La Catolica', 'lat': 19.427118669328564, 'lng': -99.1368431601243, 'labeledLatLngs': [{'label': 'display', 'lat': 19.427118669328564, 'lng': -99.1368431601243}], 'postalCode': '06080', 'cc': 'MX', 'city': 'Cuauhtemoc', 'state': 'Distrito Federal', 'country': 'México', 'formattedAddress': ['San Jeronimo 40 (Isabel La Catolica)', '06080 Cuauhtémoc, Distrito Federal', 'México']}\n",
      "{'address': 'San Jerónimo', 'crossStreet': 'Entre Isabel La Católica y 5 de Febrero', 'lat': 19.42695394834247, 'lng': -99.13596021555257, 'labeledLatLngs': [{'label': 'display', 'lat': 19.42695394834247, 'lng': -99.13596021555257}], 'cc': 'MX', 'city': 'Ciudad de México', 'state': 'Distrito Federal', 'country': 'México', 'formattedAddress': ['San Jerónimo (Entre Isabel La Católica y 5 de Febrero)', 'Ciudad de México, Distrito Federal', 'México']}\n",
      "{'address': 'Calzada De La Viga 35', 'crossStreet': 'Manuel Gutierrez Nájera', 'lat': 19.42127655079143, 'lng': -99.12772331850692, 'labeledLatLngs': [{'label': 'display', 'lat': 19.42127655079143, 'lng': -99.12772331850692}], 'cc': 'MX', 'neighborhood': 'Cuauhtemoc', 'city': 'Ciudad de México', 'state': 'Distrito Federal', 'country': 'México', 'formattedAddress': ['Calzada De La Viga 35 (Manuel Gutierrez Nájera)', 'Esperanza, Distrito Federal', 'México']}\n",
      "{'lat': 19.4281488326135, 'lng': -99.13593678728296, 'labeledLatLngs': [{'label': 'display', 'lat': 19.4281488326135, 'lng': -99.13593678728296}], 'cc': 'MX', 'country': 'México', 'formattedAddress': ['México']}\n",
      "{'lat': 19.4277406921064, 'lng': -99.13578726314309, 'labeledLatLngs': [{'label': 'display', 'lat': 19.4277406921064, 'lng': -99.13578726314309}], 'cc': 'MX', 'country': 'México', 'formattedAddress': ['México']}\n",
      "{'address': 'Luis Gonzalez Obregon', 'crossStreet': 'Argentina', 'lat': 19.436580080290522, 'lng': -99.13163438194502, 'labeledLatLngs': [{'label': 'display', 'lat': 19.436580080290522, 'lng': -99.13163438194502}], 'cc': 'MX', 'neighborhood': 'Centro Histórico', 'city': 'Ciudad de México', 'state': 'Distrito Federal', 'country': 'México', 'formattedAddress': ['Luis Gonzalez Obregon (Argentina)', 'Ciudad de México, Distrito Federal', 'México']}\n",
      "{'address': 'Regina 58-D', 'crossStreet': 'Av. 5 de Febrero', 'lat': 19.427684647686558, 'lng': -99.13526555971977, 'labeledLatLngs': [{'label': 'display', 'lat': 19.427684647686558, 'lng': -99.13526555971977}], 'cc': 'MX', 'city': 'Cuauhtemoc', 'state': 'Distrito Federal', 'country': 'México', 'formattedAddress': ['Regina 58-D (Av. 5 de Febrero)', 'Cuauhtémoc, Distrito Federal', 'México']}\n",
      "{'address': 'Av. Fray Servando Teresa de Mier 160', 'crossStreet': '5 de febrero', 'lat': 19.424169526789907, 'lng': -99.13567961909797, 'labeledLatLngs': [{'label': 'display', 'lat': 19.424169526789907, 'lng': -99.13567961909797}], 'cc': 'MX', 'state': 'CD.MX.', 'country': 'México', 'formattedAddress': ['Av. Fray Servando Teresa de Mier 160 (5 de febrero)', 'CD.MX.', 'México']}\n",
      "{'address': 'Regina 29A', 'crossStreet': 'Isabel La Catolica', 'lat': 19.427860128752076, 'lng': -99.13648434870841, 'labeledLatLngs': [{'label': 'display', 'lat': 19.427860128752076, 'lng': -99.13648434870841}], 'postalCode': '06000', 'cc': 'MX', 'city': 'Ciudad de México', 'state': 'Distrito Federal', 'country': 'México', 'formattedAddress': ['Regina 29A (Isabel La Catolica)', '06000 Ciudad de México, Distrito Federal', 'México']}\n",
      "{'address': 'Pino Suárez 18', 'lat': 19.430397, 'lng': -99.132373, 'labeledLatLngs': [{'label': 'display', 'lat': 19.430397, 'lng': -99.132373}], 'cc': 'MX', 'city': 'Ciudad de México', 'state': 'Distrito Federal', 'country': 'México', 'formattedAddress': ['Pino Suárez 18', 'Ciudad de México, Distrito Federal', 'México']}\n",
      "{'address': 'Mesones 20', 'lat': 19.42873967124083, 'lng': -99.1369696521454, 'labeledLatLngs': [{'label': 'display', 'lat': 19.42873967124083, 'lng': -99.1369696521454}], 'cc': 'MX', 'city': 'Ciudad de México', 'state': 'Distrito Federal', 'country': 'México', 'formattedAddress': ['Mesones 20', 'Ciudad de México, Distrito Federal', 'México']}\n",
      "{'address': 'Callejon Mesones', 'lat': 19.428314633398333, 'lng': -99.13590461451123, 'labeledLatLngs': [{'label': 'display', 'lat': 19.428314633398333, 'lng': -99.13590461451123}], 'cc': 'MX', 'city': 'Ciudad de México', 'state': 'Distrito Federal', 'country': 'México', 'formattedAddress': ['Callejon Mesones', 'Ciudad de México, Distrito Federal', 'México']}\n",
      "{'address': 'Regina 58', 'crossStreet': '5 De Febrero', 'lat': 19.42767522086894, 'lng': -99.13531515438883, 'labeledLatLngs': [{'label': 'display', 'lat': 19.42767522086894, 'lng': -99.13531515438883}], 'postalCode': '06080', 'cc': 'MX', 'city': 'Ciudad de México', 'state': 'Distrito Federal', 'country': 'México', 'formattedAddress': ['Regina 58 (5 De Febrero)', '06080 Ciudad de México, Distrito Federal', 'México']}\n",
      "{'address': 'Isabel La Católica #30', 'lat': 19.427661888315104, 'lng': -99.13514316593466, 'labeledLatLngs': [{'label': 'display', 'lat': 19.427661888315104, 'lng': -99.13514316593466}], 'cc': 'MX', 'city': 'Ciudad de México', 'state': 'Distrito Federal', 'country': 'México', 'formattedAddress': ['Isabel La Católica #30', 'Ciudad de México, Distrito Federal', 'México']}\n",
      "{'address': 'Isabel la Católica 68', 'crossStreet': 'República del Salvador', 'lat': 19.429181111684983, 'lng': -99.13680630503247, 'labeledLatLngs': [{'label': 'display', 'lat': 19.429181111684983, 'lng': -99.13680630503247}], 'postalCode': '06000', 'cc': 'MX', 'neighborhood': 'Downtown', 'city': 'Cuauhtemoc', 'state': 'Distrito Federal', 'country': 'México', 'formattedAddress': ['Isabel la Católica 68 (República del Salvador)', '06000 Cuauhtémoc, Distrito Federal', 'México']}\n",
      "{'address': 'Pino Suárez', 'lat': 19.429882601404035, 'lng': -99.13246092774207, 'labeledLatLngs': [{'label': 'display', 'lat': 19.429882601404035, 'lng': -99.13246092774207}], 'cc': 'MX', 'city': 'Ciudad de México', 'state': 'Distrito Federal', 'country': 'México', 'formattedAddress': ['Pino Suárez', 'Ciudad de México, Distrito Federal', 'México']}\n",
      "{'address': 'Plaza de la Constitución 13', 'lat': 19.432449763852436, 'lng': -99.13429529765517, 'labeledLatLngs': [{'label': 'display', 'lat': 19.432449763852436, 'lng': -99.13429529765517}], 'postalCode': '06000', 'cc': 'MX', 'city': 'Cuauhtemoc', 'state': 'Distrito Federal', 'country': 'México', 'formattedAddress': ['Plaza de la Constitución 13', '06000 Cuauhtémoc, Distrito Federal', 'México']}\n",
      "{'lat': 19.434903660388894, 'lng': -99.13381276650479, 'labeledLatLngs': [{'label': 'display', 'lat': 19.434903660388894, 'lng': -99.13381276650479}], 'cc': 'MX', 'country': 'México', 'formattedAddress': ['México']}\n",
      "{'address': 'Rodriguez Puebla 11', 'lat': 19.436978038244817, 'lng': -99.12732240456566, 'labeledLatLngs': [{'label': 'display', 'lat': 19.436978038244817, 'lng': -99.12732240456566}], 'cc': 'MX', 'city': 'Ciudad de México', 'state': 'Distrito Federal', 'country': 'México', 'formattedAddress': ['Rodriguez Puebla 11', 'Ciudad de México, Distrito Federal', 'México']}\n",
      "{'lat': 19.42785040636309, 'lng': -99.1362919741722, 'labeledLatLngs': [{'label': 'display', 'lat': 19.42785040636309, 'lng': -99.1362919741722}], 'cc': 'MX', 'country': 'México', 'formattedAddress': ['México']}\n",
      "{'address': 'Mesones 55', 'lat': 19.428656504039306, 'lng': -99.1367322333881, 'labeledLatLngs': [{'label': 'display', 'lat': 19.428656504039306, 'lng': -99.1367322333881}], 'cc': 'MX', 'city': 'Ciudad de México', 'state': 'Distrito Federal', 'country': 'México', 'formattedAddress': ['Mesones 55', 'Ciudad de México, Distrito Federal', 'México']}\n",
      "{'address': 'Regina 43-B', 'lat': 19.42780114382071, 'lng': -99.13608301324648, 'labeledLatLngs': [{'label': 'display', 'lat': 19.42780114382071, 'lng': -99.13608301324648}], 'cc': 'MX', 'city': 'Ciudad de México', 'state': 'Distrito Federal', 'country': 'México', 'formattedAddress': ['Regina 43-B', 'Ciudad de México, Distrito Federal', 'México']}\n",
      "{'lat': 19.428621264543633, 'lng': -99.13659624069415, 'labeledLatLngs': [{'label': 'display', 'lat': 19.428621264543633, 'lng': -99.13659624069415}], 'cc': 'MX', 'country': 'México', 'formattedAddress': ['México']}\n",
      "{'lat': 19.42666723094862, 'lng': -99.13537213438671, 'labeledLatLngs': [{'label': 'display', 'lat': 19.42666723094862, 'lng': -99.13537213438671}], 'cc': 'MX', 'country': 'México', 'formattedAddress': ['México']}\n",
      "{'lat': 19.43247654030382, 'lng': -99.1343272066804, 'labeledLatLngs': [{'label': 'display', 'lat': 19.43247654030382, 'lng': -99.1343272066804}], 'cc': 'MX', 'country': 'México', 'formattedAddress': ['México']}\n",
      "{'address': 'Calle 5 de Febrero #71', 'crossStreet': 'San Jerónimo', 'lat': 19.426892949642358, 'lng': -99.13517537155849, 'labeledLatLngs': [{'label': 'display', 'lat': 19.426892949642358, 'lng': -99.13517537155849}], 'postalCode': '06500', 'cc': 'MX', 'city': 'Cuauhtemoc', 'state': 'Distrito Federal', 'country': 'México', 'formattedAddress': ['Calle 5 de Febrero #71 (San Jerónimo)', '06500 Cuauhtémoc, Ciudad de México, DF, Distrito Federal', 'México']}\n",
      "{'address': 'Francisco I. Madero #20, 2° piso', 'crossStreet': 'Gante', 'lat': 19.426855109358097, 'lng': -99.13537161783815, 'labeledLatLngs': [{'label': 'display', 'lat': 19.426855109358097, 'lng': -99.13537161783815}], 'cc': 'MX', 'city': 'Ciudad de México', 'state': 'Distrito Federal', 'country': 'México', 'formattedAddress': ['Francisco I. Madero #20, 2° piso (Gante)', 'Ciudad de México, Distrito Federal', 'México']}\n",
      "{'lat': 19.42755, 'lng': -99.134456, 'labeledLatLngs': [{'label': 'display', 'lat': 19.42755, 'lng': -99.134456}], 'cc': 'MX', 'country': 'México', 'formattedAddress': ['México']}\n",
      "{'address': 'San Jerónimo', 'crossStreet': '5 De Febrero', 'lat': 19.426897754297304, 'lng': -99.13531161828703, 'labeledLatLngs': [{'label': 'display', 'lat': 19.426897754297304, 'lng': -99.13531161828703}], 'cc': 'MX', 'city': 'Centro Histórico', 'state': 'Distrito Federal', 'country': 'México', 'formattedAddress': ['San Jerónimo (5 De Febrero)', 'Centro Histórico, Distrito Federal', 'México']}\n",
      "{'address': 'Regina', 'lat': 19.427900002079465, 'lng': -99.13601810167563, 'labeledLatLngs': [{'label': 'display', 'lat': 19.427900002079465, 'lng': -99.13601810167563}], 'cc': 'MX', 'state': 'Distrito Federal', 'country': 'México', 'formattedAddress': ['Regina', 'Distrito Federal', 'México']}\n",
      "{'address': 'Donceles 105 C', 'lat': 19.42779913264309, 'lng': -99.13509077435751, 'labeledLatLngs': [{'label': 'display', 'lat': 19.42779913264309, 'lng': -99.13509077435751}], 'cc': 'MX', 'city': 'Ciudad de México', 'state': 'Distrito Federal', 'country': 'México', 'formattedAddress': ['Donceles 105 C', 'Ciudad de México, Distrito Federal', 'México']}\n",
      "{'address': 'Regina 43', 'crossStreet': 'Mesones', 'lat': 19.42783431364136, 'lng': -99.13611820497276, 'labeledLatLngs': [{'label': 'display', 'lat': 19.42783431364136, 'lng': -99.13611820497276}], 'cc': 'MX', 'city': 'Ciudad de México', 'state': 'Distrito Federal', 'country': 'México', 'formattedAddress': ['Regina 43 (Mesones)', 'Ciudad de México, Distrito Federal', 'México']}\n",
      "{'address': 'Calle Regina 27-b', 'crossStreet': 'Isabel La Católica', 'lat': 19.427900455443066, 'lng': -99.13664860499786, 'labeledLatLngs': [{'label': 'display', 'lat': 19.427900455443066, 'lng': -99.13664860499786}], 'postalCode': '06080', 'cc': 'MX', 'neighborhood': 'Centro Histórico', 'city': 'Cuauhtémoc', 'state': 'CDMX', 'country': 'México', 'formattedAddress': ['Calle Regina 27-b (Isabel La Católica)', '06080 Cuauhtémoc, CDMX', 'México']}\n",
      "{'lat': 19.426855, 'lng': -99.13586, 'labeledLatLngs': [{'label': 'display', 'lat': 19.426855, 'lng': -99.13586}], 'postalCode': '06090', 'cc': 'MX', 'neighborhood': 'Downtown', 'city': 'Ciudad de México', 'state': 'Distrito Federal', 'country': 'México', 'formattedAddress': ['06090 Ciudad de México, Distrito Federal', 'México']}\n",
      "{'lat': 19.42786290497111, 'lng': -99.13639788430937, 'labeledLatLngs': [{'label': 'display', 'lat': 19.42786290497111, 'lng': -99.13639788430937}], 'cc': 'MX', 'country': 'México', 'formattedAddress': ['México']}\n",
      "{'lat': 19.427944740154, 'lng': -99.13675076832988, 'labeledLatLngs': [{'label': 'display', 'lat': 19.427944740154, 'lng': -99.13675076832988}], 'cc': 'MX', 'country': 'México', 'formattedAddress': ['México']}\n",
      "{'lat': 19.435198321473145, 'lng': -99.13303467196695, 'labeledLatLngs': [{'label': 'display', 'lat': 19.435198321473145, 'lng': -99.13303467196695}], 'cc': 'MX', 'country': 'México', 'formattedAddress': ['México']}\n",
      "{'address': 'L. Gonzalez Obregón 25', 'crossStreet': 'Col. Centro', 'lat': 19.43536529573128, 'lng': -99.13299829283085, 'labeledLatLngs': [{'label': 'display', 'lat': 19.43536529573128, 'lng': -99.13299829283085}], 'cc': 'MX', 'city': 'Ciudad de México', 'state': 'Distrito Federal', 'country': 'México', 'formattedAddress': ['L. Gonzalez Obregón 25 (Col. Centro)', 'Ciudad de México, Distrito Federal', 'México']}\n",
      "{'address': 'Agustín Delgado 16', 'lat': 19.420649056666512, 'lng': -99.1321012101354, 'labeledLatLngs': [{'label': 'display', 'lat': 19.420649056666512, 'lng': -99.1321012101354}], 'cc': 'MX', 'city': 'Ciudad de México', 'state': 'Distrito Federal', 'country': 'México', 'formattedAddress': ['Agustín Delgado 16', 'Ciudad de México, Distrito Federal', 'México']}\n",
      "{'address': 'Corredor San Jerónimo', 'crossStreet': 'Isabel La Católica', 'lat': 19.427058818715157, 'lng': -99.13707157756568, 'labeledLatLngs': [{'label': 'display', 'lat': 19.427058818715157, 'lng': -99.13707157756568}], 'postalCode': '06000', 'cc': 'MX', 'city': 'Ciudad de México', 'state': 'CDMX', 'country': 'México', 'formattedAddress': ['Corredor San Jerónimo (Isabel La Católica)', '06000 Ciudad de México, CDMX', 'México']}\n"
     ]
    },
    {
     "data": {
      "text/html": [
       "<div>\n",
       "<style scoped>\n",
       "    .dataframe tbody tr th:only-of-type {\n",
       "        vertical-align: middle;\n",
       "    }\n",
       "\n",
       "    .dataframe tbody tr th {\n",
       "        vertical-align: top;\n",
       "    }\n",
       "\n",
       "    .dataframe thead th {\n",
       "        text-align: right;\n",
       "    }\n",
       "</style>\n",
       "<table border=\"1\" class=\"dataframe\">\n",
       "  <thead>\n",
       "    <tr style=\"text-align: right;\">\n",
       "      <th></th>\n",
       "      <th>uid</th>\n",
       "      <th>name</th>\n",
       "      <th>shortname</th>\n",
       "      <th>address</th>\n",
       "      <th>postalcode</th>\n",
       "      <th>lat</th>\n",
       "      <th>lng</th>\n",
       "    </tr>\n",
       "  </thead>\n",
       "  <tbody>\n",
       "    <tr>\n",
       "      <th>0</th>\n",
       "      <td>4f67bea9c2ee09e7b3e57225</td>\n",
       "      <td>Terraza Catedral</td>\n",
       "      <td>Beer Garden</td>\n",
       "      <td></td>\n",
       "      <td>06020</td>\n",
       "      <td>19.435306</td>\n",
       "      <td>-99.133657</td>\n",
       "    </tr>\n",
       "    <tr>\n",
       "      <th>1</th>\n",
       "      <td>4d0dbb4dbe6d6ea800e706b5</td>\n",
       "      <td>Hostería La Bota</td>\n",
       "      <td>Tapas</td>\n",
       "      <td></td>\n",
       "      <td>06050</td>\n",
       "      <td>19.427067</td>\n",
       "      <td>-99.137017</td>\n",
       "    </tr>\n",
       "    <tr>\n",
       "      <th>2</th>\n",
       "      <td>4b0586fef964a520c47922e3</td>\n",
       "      <td>La Casa de las Sirenas</td>\n",
       "      <td>Cocktail</td>\n",
       "      <td></td>\n",
       "      <td>06000</td>\n",
       "      <td>19.434975</td>\n",
       "      <td>-99.132292</td>\n",
       "    </tr>\n",
       "    <tr>\n",
       "      <th>3</th>\n",
       "      <td>51a0208d498e210b5bd14aec</td>\n",
       "      <td>Terraza Regina</td>\n",
       "      <td>Beer Garden</td>\n",
       "      <td></td>\n",
       "      <td>06090</td>\n",
       "      <td>19.427770</td>\n",
       "      <td>-99.135235</td>\n",
       "    </tr>\n",
       "    <tr>\n",
       "      <th>4</th>\n",
       "      <td>50c7edd9e4b0dec51dff8ef4</td>\n",
       "      <td>Hilaria Gastrobar</td>\n",
       "      <td>Bar</td>\n",
       "      <td></td>\n",
       "      <td>06000</td>\n",
       "      <td>19.433335</td>\n",
       "      <td>-99.135603</td>\n",
       "    </tr>\n",
       "  </tbody>\n",
       "</table>\n",
       "</div>"
      ],
      "text/plain": [
       "                        uid                    name    shortname address  \\\n",
       "0  4f67bea9c2ee09e7b3e57225        Terraza Catedral  Beer Garden           \n",
       "1  4d0dbb4dbe6d6ea800e706b5        Hostería La Bota        Tapas           \n",
       "2  4b0586fef964a520c47922e3  La Casa de las Sirenas     Cocktail           \n",
       "3  51a0208d498e210b5bd14aec          Terraza Regina  Beer Garden           \n",
       "4  50c7edd9e4b0dec51dff8ef4       Hilaria Gastrobar          Bar           \n",
       "\n",
       "  postalcode        lat        lng  \n",
       "0      06020  19.435306 -99.133657  \n",
       "1      06050  19.427067 -99.137017  \n",
       "2      06000  19.434975 -99.132292  \n",
       "3      06090  19.427770 -99.135235  \n",
       "4      06000  19.433335 -99.135603  "
      ]
     },
     "execution_count": 43,
     "metadata": {},
     "output_type": "execute_result"
    }
   ],
   "source": [
    "df_raw = []\n",
    "for item in items:\n",
    "    venue = item[\"venue\"]\n",
    "    categories, uid, name, location = venue[\"categories\"], venue[\"id\"], venue[\"name\"], venue[\"location\"]\n",
    "    print(location)\n",
    "    assert len(categories) == 1\n",
    "    shortname = categories[0][\"shortName\"]\n",
    "    address =  ''\n",
    "    if hasattr(location, 'address'):\n",
    "      address = location['address']\n",
    "    if not \"postalCode\" in location:\n",
    "        continue\n",
    "    postalcode = location[\"postalCode\"]\n",
    "    lat = location[\"lat\"]\n",
    "    lng = location[\"lng\"]\n",
    "    datarow = (uid, name, shortname, address, postalcode, lat, lng)\n",
    "    df_raw.append(datarow)\n",
    "df = pd.DataFrame(df_raw, columns=[\"uid\", \"name\", \"shortname\", \"address\", \"postalcode\", \"lat\", \"lng\"])\n",
    "df.head()"
   ]
  }
 ],
 "metadata": {
  "kernelspec": {
   "display_name": "Python 3",
   "language": "python",
   "name": "python3"
  },
  "language_info": {
   "codemirror_mode": {
    "name": "ipython",
    "version": 3
   },
   "file_extension": ".py",
   "mimetype": "text/x-python",
   "name": "python",
   "nbconvert_exporter": "python",
   "pygments_lexer": "ipython3",
   "version": "3.7.6"
  }
 },
 "nbformat": 4,
 "nbformat_minor": 4
}
