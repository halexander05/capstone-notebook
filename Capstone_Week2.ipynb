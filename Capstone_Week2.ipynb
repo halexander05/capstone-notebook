{
 "cells": [
  {
   "cell_type": "markdown",
   "metadata": {},
   "source": [
    "## Capstone Project - The Battle of Neighborhoods (Week 2)"
   ]
  },
  {
   "cell_type": "markdown",
   "metadata": {},
   "source": [
    "**A description of the problem and a discussion of the background.**   "
   ]
  },
  {
   "cell_type": "markdown",
   "metadata": {},
   "source": [
    "Talking about typical Mexican drinks is an interesting topic for many people. The love for drinks like tequila, mezcal, and even pulque has always come from Mexicans. But Mexico, in addition to these so, has a huge variety of famous drinks that range from simple fresh waters to a called Tuba made with the flower of coconut trees in Colima and Nayarit.\n",
    "\n",
    "Knowing this, we can say that it would be competitive to start a beverage business, more specifically a bar.\n",
    "\n",
    "First of all, we must collect data from the entire beverage business in Mexico City, including its name, identification (address, latitude, longitude) and then look for the one that is most frequented by people. For active data we use FourSquare and apply folio to visualize a particular beverage business in which we will observe customer \"traffic\" and predict the appropriate location of a new bar in the city."
   ]
  },
  {
   "cell_type": "markdown",
   "metadata": {},
   "source": [
    "**A description of the data and how it will be used to solve the problem.** "
   ]
  },
  {
   "cell_type": "markdown",
   "metadata": {},
   "source": [
    "We will use the data collected from FourSquare to predict the proper location to start a new beverage business in town."
   ]
  },
  {
   "cell_type": "markdown",
   "metadata": {},
   "source": [
    "**Installing and Importing the required Libraries** "
   ]
  },
  {
   "cell_type": "code",
   "execution_count": 2,
   "metadata": {},
   "outputs": [
    {
     "name": "stdout",
     "output_type": "stream",
     "text": [
      "Collecting package metadata (current_repodata.json): done\n",
      "Solving environment: done\n",
      "\n",
      "# All requested packages already installed.\n",
      "\n"
     ]
    }
   ],
   "source": [
    "import requests # library to handle requests\n",
    "import pandas as pd # library for data analsysis\n",
    "import numpy as np # library to handle data in a vectorized manner\n",
    "import random # library for random number generation\n",
    "!conda install -c conda-forge folium=0.5.0 --yes\n",
    "import folium # plotting library"
   ]
  },
  {
   "cell_type": "markdown",
   "metadata": {},
   "source": [
    "**Credentials for FourSquare** "
   ]
  },
  {
   "cell_type": "code",
   "execution_count": 3,
   "metadata": {},
   "outputs": [
    {
     "name": "stdout",
     "output_type": "stream",
     "text": [
      "Your credentails:\n",
      "CLIENT_ID: D3S0DGXFOQB0OVI0J4AURKICYYGGH2FAI3XCMNPVAQNS4MIM\n",
      "CLIENT_SECRET:BULV32R1WKYCMVCDBJPE1SDNNYJIK340A5BXJMEIQEXOXGBG\n"
     ]
    }
   ],
   "source": [
    "CLIENT_ID = 'D3S0DGXFOQB0OVI0J4AURKICYYGGH2FAI3XCMNPVAQNS4MIM' # your Foursquare ID\n",
    "CLIENT_SECRET = 'BULV32R1WKYCMVCDBJPE1SDNNYJIK340A5BXJMEIQEXOXGBG' # your Foursquare Secret\n",
    "VERSION = '20201104'\n",
    "LIMIT = 50\n",
    "print('Your credentails:')\n",
    "print('CLIENT_ID: ' + CLIENT_ID)\n",
    "print('CLIENT_SECRET:' + CLIENT_SECRET)"
   ]
  },
  {
   "cell_type": "markdown",
   "metadata": {},
   "source": [
    "**Get request near Mexico City** "
   ]
  },
  {
   "cell_type": "code",
   "execution_count": 4,
   "metadata": {},
   "outputs": [],
   "source": [
    "import requests\n",
    "\n",
    "request_parameters = {\n",
    "    \"client_id\": CLIENT_ID,\n",
    "    \"client_secret\": CLIENT_SECRET,\n",
    "    \"v\": '20180605',\n",
    "    \"section\": \"drinks\",\n",
    "    \"near\": \"Mexico City\",\n",
    "    \"radius\": 1000,\n",
    "    \"limit\": 50}\n",
    "\n",
    "data = requests.get(\"https://api.foursquare.com/v2/venues/explore\", params=request_parameters)"
   ]
  },
  {
   "cell_type": "markdown",
   "metadata": {},
   "source": [
    "**Transform data into json then request geocode.** "
   ]
  },
  {
   "cell_type": "code",
   "execution_count": 5,
   "metadata": {},
   "outputs": [
    {
     "data": {
      "text/plain": [
       "dict_keys(['suggestedFilters', 'geocode', 'headerLocation', 'headerFullLocation', 'headerLocationGranularity', 'query', 'totalResults', 'suggestedBounds', 'groups'])"
      ]
     },
     "execution_count": 5,
     "metadata": {},
     "output_type": "execute_result"
    }
   ],
   "source": [
    "d = data.json()[\"response\"]\n",
    "d.keys()"
   ]
  },
  {
   "cell_type": "code",
   "execution_count": 6,
   "metadata": {},
   "outputs": [
    {
     "data": {
      "text/plain": [
       "('city', 'Mexico City', 'Mexico City')"
      ]
     },
     "execution_count": 6,
     "metadata": {},
     "output_type": "execute_result"
    }
   ],
   "source": [
    "d[\"headerLocationGranularity\"], d[\"headerLocation\"], d[\"headerFullLocation\"]"
   ]
  },
  {
   "cell_type": "code",
   "execution_count": 7,
   "metadata": {},
   "outputs": [
    {
     "data": {
      "text/plain": [
       "({'ne': {'lat': 19.437794487323732, 'lng': -99.12664159911786},\n",
       "  'sw': {'lat': 19.419832607587598, 'lng': -99.13756824320605}},\n",
       " 52)"
      ]
     },
     "execution_count": 7,
     "metadata": {},
     "output_type": "execute_result"
    }
   ],
   "source": [
    "d[\"suggestedBounds\"], d[\"totalResults\"]"
   ]
  },
  {
   "cell_type": "code",
   "execution_count": 8,
   "metadata": {},
   "outputs": [
    {
     "data": {
      "text/plain": [
       "{'what': '',\n",
       " 'where': 'mexico city',\n",
       " 'center': {'lat': 19.42847, 'lng': -99.12766},\n",
       " 'displayString': 'Mexico City, DF, Mexico',\n",
       " 'cc': 'MX',\n",
       " 'geometry': {'bounds': {'ne': {'lat': 19.515304989460464,\n",
       "    'lng': -99.05579900650167},\n",
       "   'sw': {'lat': 19.356858007471764, 'lng': -99.25983899084375}}},\n",
       " 'slug': 'mexico-city',\n",
       " 'longId': '72057594041458533'}"
      ]
     },
     "execution_count": 8,
     "metadata": {},
     "output_type": "execute_result"
    }
   ],
   "source": [
    "d[\"geocode\"]"
   ]
  },
  {
   "cell_type": "markdown",
   "metadata": {},
   "source": [
    "**We start creating group including information which is recommended.** "
   ]
  },
  {
   "cell_type": "code",
   "execution_count": 9,
   "metadata": {},
   "outputs": [
    {
     "data": {
      "text/plain": [
       "dict_keys(['type', 'name', 'items'])"
      ]
     },
     "execution_count": 9,
     "metadata": {},
     "output_type": "execute_result"
    }
   ],
   "source": [
    "d[\"groups\"][0].keys()"
   ]
  },
  {
   "cell_type": "code",
   "execution_count": 10,
   "metadata": {},
   "outputs": [
    {
     "data": {
      "text/plain": [
       "('Recommended Places', 'recommended')"
      ]
     },
     "execution_count": 10,
     "metadata": {},
     "output_type": "execute_result"
    }
   ],
   "source": [
    "d[\"groups\"][0][\"type\"], d[\"groups\"][0][\"name\"]"
   ]
  },
  {
   "cell_type": "markdown",
   "metadata": {},
   "source": [
    "**Creating items of bars and their attributes - id, address, name, etc** "
   ]
  },
  {
   "cell_type": "code",
   "execution_count": 11,
   "metadata": {},
   "outputs": [
    {
     "name": "stdout",
     "output_type": "stream",
     "text": [
      "number of items: 50\n"
     ]
    },
    {
     "data": {
      "text/plain": [
       "{'reasons': {'count': 0,\n",
       "  'items': [{'summary': 'This spot is popular',\n",
       "    'type': 'general',\n",
       "    'reasonName': 'globalInteractionReason'}]},\n",
       " 'venue': {'id': '4f3f65d4e4b0ae0655090150',\n",
       "  'name': 'Pulqueria la Elegante',\n",
       "  'location': {'lat': 19.42349945614243,\n",
       "   'lng': -99.12861024918861,\n",
       "   'labeledLatLngs': [{'label': 'display',\n",
       "     'lat': 19.42349945614243,\n",
       "     'lng': -99.12861024918861}],\n",
       "   'cc': 'MX',\n",
       "   'state': 'Distrito Federal',\n",
       "   'country': 'México',\n",
       "   'formattedAddress': ['Distrito Federal', 'México']},\n",
       "  'categories': [{'id': '50327c8591d4c4b30a586d5d',\n",
       "    'name': 'Brewery',\n",
       "    'pluralName': 'Breweries',\n",
       "    'shortName': 'Brewery',\n",
       "    'icon': {'prefix': 'https://ss3.4sqi.net/img/categories_v2/food/brewery_',\n",
       "     'suffix': '.png'},\n",
       "    'primary': True}],\n",
       "  'photos': {'count': 0, 'groups': []}},\n",
       " 'referralId': 'e-4-4f3f65d4e4b0ae0655090150-0'}"
      ]
     },
     "execution_count": 11,
     "metadata": {},
     "output_type": "execute_result"
    }
   ],
   "source": [
    "items = d[\"groups\"][0][\"items\"]\n",
    "print(\"number of items: %i\" % len(items))\n",
    "items[0]"
   ]
  },
  {
   "cell_type": "markdown",
   "metadata": {},
   "source": [
    "**Based on that we start to organize what we have got.** "
   ]
  },
  {
   "cell_type": "code",
   "execution_count": 12,
   "metadata": {},
   "outputs": [
    {
     "name": "stdout",
     "output_type": "stream",
     "text": [
      "{'lat': 19.42349945614243, 'lng': -99.12861024918861, 'labeledLatLngs': [{'label': 'display', 'lat': 19.42349945614243, 'lng': -99.12861024918861}], 'cc': 'MX', 'state': 'Distrito Federal', 'country': 'México', 'formattedAddress': ['Distrito Federal', 'México']}\n",
      "{'address': 'Alhóndiga 26', 'lat': 19.431050123135268, 'lng': -99.12713826475824, 'labeledLatLngs': [{'label': 'display', 'lat': 19.431050123135268, 'lng': -99.12713826475824}], 'cc': 'MX', 'city': 'Ciudad de México', 'state': 'Distrito Federal', 'country': 'México', 'formattedAddress': ['Alhóndiga 26', 'Ciudad de México, Distrito Federal', 'México']}\n",
      "{'address': 'República de Guatemala 4', 'crossStreet': 'República de Brasil', 'lat': 19.43530583753121, 'lng': -99.13365729219127, 'labeledLatLngs': [{'label': 'display', 'lat': 19.43530583753121, 'lng': -99.13365729219127}], 'postalCode': '06020', 'cc': 'MX', 'neighborhood': 'Downtown', 'city': 'Ciudad de México', 'state': 'Distrito Federal', 'country': 'México', 'formattedAddress': ['República de Guatemala 4 (República de Brasil)', '06020 Ciudad de México, Distrito Federal', 'México']}\n",
      "{'address': 'Regina #48', 'crossStreet': 'Isabel la Católica', 'lat': 19.427066741873226, 'lng': -99.13701682236837, 'labeledLatLngs': [{'label': 'display', 'lat': 19.427066741873226, 'lng': -99.13701682236837}], 'postalCode': '06050', 'cc': 'MX', 'city': 'Cuauhtemoc', 'state': 'Distrito Federal', 'country': 'México', 'formattedAddress': ['Regina #48 (Isabel la Católica)', '06050 Cuauhtémoc, Ciudad de México, DF, Distrito Federal', 'México']}\n",
      "{'address': 'Republica de Guatemala 32', 'lat': 19.43497451800238, 'lng': -99.13229242726015, 'labeledLatLngs': [{'label': 'display', 'lat': 19.43497451800238, 'lng': -99.13229242726015}], 'postalCode': '06000', 'cc': 'MX', 'city': 'Ciudad de México', 'state': 'Distrito Federal', 'country': 'México', 'formattedAddress': ['Republica de Guatemala 32', '06000 Ciudad de México, Distrito Federal', 'México']}\n",
      "{'address': 'Emiliano Zapata', 'crossStreet': 'Jesús María', 'lat': 19.4331147788435, 'lng': -99.1278923473317, 'labeledLatLngs': [{'label': 'display', 'lat': 19.4331147788435, 'lng': -99.1278923473317}], 'cc': 'MX', 'city': 'Ciudad de México', 'state': 'Distrito Federal', 'country': 'México', 'formattedAddress': ['Emiliano Zapata (Jesús María)', 'Ciudad de México, Distrito Federal', 'México']}\n",
      "{'address': '5 de Febrero 53', 'crossStreet': 'Regina', 'lat': 19.42776971264625, 'lng': -99.13523479451294, 'labeledLatLngs': [{'label': 'display', 'lat': 19.42776971264625, 'lng': -99.13523479451294}], 'postalCode': '06090', 'cc': 'MX', 'neighborhood': 'Downtown', 'city': 'Centro Histórico', 'state': 'Distrito Federal', 'country': 'México', 'formattedAddress': ['5 de Febrero 53 (Regina)', '06090 Centro Histórico, Distrito Federal', 'México']}\n",
      "{'address': 'Madero 57', 'crossStreet': 'Isabel La Católica y Palma', 'lat': 19.433335496558474, 'lng': -99.13560257698492, 'labeledLatLngs': [{'label': 'display', 'lat': 19.433335496558474, 'lng': -99.13560257698492}], 'postalCode': '06000', 'cc': 'MX', 'neighborhood': 'Downtown', 'city': 'Cuauhtemoc', 'state': 'Distrito Federal', 'country': 'México', 'formattedAddress': ['Madero 57 (Isabel La Católica y Palma)', '06000 Cuauhtémoc, Distrito Federal', 'México']}\n",
      "{'lat': 19.428088165731538, 'lng': -99.13260508047564, 'labeledLatLngs': [{'label': 'display', 'lat': 19.428088165731538, 'lng': -99.13260508047564}], 'cc': 'MX', 'country': 'México', 'formattedAddress': ['México']}\n",
      "{'address': 'San Jeronimo 40', 'crossStreet': 'Isabel La Catolica', 'lat': 19.427118669328564, 'lng': -99.1368431601243, 'labeledLatLngs': [{'label': 'display', 'lat': 19.427118669328564, 'lng': -99.1368431601243}], 'postalCode': '06080', 'cc': 'MX', 'city': 'Cuauhtemoc', 'state': 'Distrito Federal', 'country': 'México', 'formattedAddress': ['San Jeronimo 40 (Isabel La Catolica)', '06080 Cuauhtémoc, Distrito Federal', 'México']}\n",
      "{'lat': 19.42647139281787, 'lng': -99.1324096546437, 'labeledLatLngs': [{'label': 'display', 'lat': 19.42647139281787, 'lng': -99.1324096546437}], 'cc': 'MX', 'country': 'México', 'formattedAddress': ['México']}\n",
      "{'address': 'San Jerónimo', 'crossStreet': 'Entre Isabel La Católica y 5 de Febrero', 'lat': 19.42695394834247, 'lng': -99.13596021555257, 'labeledLatLngs': [{'label': 'display', 'lat': 19.42695394834247, 'lng': -99.13596021555257}], 'cc': 'MX', 'city': 'Ciudad de México', 'state': 'Distrito Federal', 'country': 'México', 'formattedAddress': ['San Jerónimo (Entre Isabel La Católica y 5 de Febrero)', 'Ciudad de México, Distrito Federal', 'México']}\n",
      "{'address': 'Calzada De La Viga 35', 'crossStreet': 'Manuel Gutierrez Nájera', 'lat': 19.42127655079143, 'lng': -99.12772331850692, 'labeledLatLngs': [{'label': 'display', 'lat': 19.42127655079143, 'lng': -99.12772331850692}], 'cc': 'MX', 'neighborhood': 'Cuauhtemoc', 'city': 'Ciudad de México', 'state': 'Distrito Federal', 'country': 'México', 'formattedAddress': ['Calzada De La Viga 35 (Manuel Gutierrez Nájera)', 'Esperanza, Distrito Federal', 'México']}\n",
      "{'lat': 19.4281488326135, 'lng': -99.13593678728296, 'labeledLatLngs': [{'label': 'display', 'lat': 19.4281488326135, 'lng': -99.13593678728296}], 'cc': 'MX', 'country': 'México', 'formattedAddress': ['México']}\n",
      "{'lat': 19.4277406921064, 'lng': -99.13578726314309, 'labeledLatLngs': [{'label': 'display', 'lat': 19.4277406921064, 'lng': -99.13578726314309}], 'cc': 'MX', 'country': 'México', 'formattedAddress': ['México']}\n",
      "{'address': 'Luis Gonzalez Obregon', 'crossStreet': 'Argentina', 'lat': 19.436580080290522, 'lng': -99.13163438194502, 'labeledLatLngs': [{'label': 'display', 'lat': 19.436580080290522, 'lng': -99.13163438194502}], 'cc': 'MX', 'neighborhood': 'Centro Histórico', 'city': 'Ciudad de México', 'state': 'Distrito Federal', 'country': 'México', 'formattedAddress': ['Luis Gonzalez Obregon (Argentina)', 'Ciudad de México, Distrito Federal', 'México']}\n",
      "{'address': 'Regina 58-D', 'crossStreet': 'Av. 5 de Febrero', 'lat': 19.427684647686558, 'lng': -99.13526555971977, 'labeledLatLngs': [{'label': 'display', 'lat': 19.427684647686558, 'lng': -99.13526555971977}], 'cc': 'MX', 'city': 'Cuauhtemoc', 'state': 'Distrito Federal', 'country': 'México', 'formattedAddress': ['Regina 58-D (Av. 5 de Febrero)', 'Cuauhtémoc, Distrito Federal', 'México']}\n",
      "{'address': 'Av. Fray Servando Teresa de Mier 160', 'crossStreet': '5 de febrero', 'lat': 19.424169526789907, 'lng': -99.13567961909797, 'labeledLatLngs': [{'label': 'display', 'lat': 19.424169526789907, 'lng': -99.13567961909797}], 'cc': 'MX', 'state': 'CD.MX.', 'country': 'México', 'formattedAddress': ['Av. Fray Servando Teresa de Mier 160 (5 de febrero)', 'CD.MX.', 'México']}\n",
      "{'address': 'Regina 29A', 'crossStreet': 'Isabel La Catolica', 'lat': 19.427860128752076, 'lng': -99.13648434870841, 'labeledLatLngs': [{'label': 'display', 'lat': 19.427860128752076, 'lng': -99.13648434870841}], 'postalCode': '06000', 'cc': 'MX', 'city': 'Ciudad de México', 'state': 'Distrito Federal', 'country': 'México', 'formattedAddress': ['Regina 29A (Isabel La Catolica)', '06000 Ciudad de México, Distrito Federal', 'México']}\n",
      "{'address': 'Pino Suárez 18', 'lat': 19.430397, 'lng': -99.132373, 'labeledLatLngs': [{'label': 'display', 'lat': 19.430397, 'lng': -99.132373}], 'cc': 'MX', 'city': 'Ciudad de México', 'state': 'Distrito Federal', 'country': 'México', 'formattedAddress': ['Pino Suárez 18', 'Ciudad de México, Distrito Federal', 'México']}\n",
      "{'address': 'Mesones 20', 'lat': 19.42873967124083, 'lng': -99.1369696521454, 'labeledLatLngs': [{'label': 'display', 'lat': 19.42873967124083, 'lng': -99.1369696521454}], 'cc': 'MX', 'city': 'Ciudad de México', 'state': 'Distrito Federal', 'country': 'México', 'formattedAddress': ['Mesones 20', 'Ciudad de México, Distrito Federal', 'México']}\n",
      "{'address': 'Callejon Mesones', 'lat': 19.428314633398333, 'lng': -99.13590461451123, 'labeledLatLngs': [{'label': 'display', 'lat': 19.428314633398333, 'lng': -99.13590461451123}], 'cc': 'MX', 'city': 'Ciudad de México', 'state': 'Distrito Federal', 'country': 'México', 'formattedAddress': ['Callejon Mesones', 'Ciudad de México, Distrito Federal', 'México']}\n",
      "{'address': 'Regina 58', 'crossStreet': '5 De Febrero', 'lat': 19.42767522086894, 'lng': -99.13531515438883, 'labeledLatLngs': [{'label': 'display', 'lat': 19.42767522086894, 'lng': -99.13531515438883}], 'postalCode': '06080', 'cc': 'MX', 'city': 'Ciudad de México', 'state': 'Distrito Federal', 'country': 'México', 'formattedAddress': ['Regina 58 (5 De Febrero)', '06080 Ciudad de México, Distrito Federal', 'México']}\n",
      "{'address': 'Isabel la Católica 68', 'crossStreet': 'República del Salvador', 'lat': 19.429181111684983, 'lng': -99.13680630503247, 'labeledLatLngs': [{'label': 'display', 'lat': 19.429181111684983, 'lng': -99.13680630503247}], 'postalCode': '06000', 'cc': 'MX', 'neighborhood': 'Downtown', 'city': 'Cuauhtemoc', 'state': 'Distrito Federal', 'country': 'México', 'formattedAddress': ['Isabel la Católica 68 (República del Salvador)', '06000 Cuauhtémoc, Distrito Federal', 'México']}\n",
      "{'address': 'Isabel La Católica #30', 'lat': 19.427661888315104, 'lng': -99.13514316593466, 'labeledLatLngs': [{'label': 'display', 'lat': 19.427661888315104, 'lng': -99.13514316593466}], 'cc': 'MX', 'city': 'Ciudad de México', 'state': 'Distrito Federal', 'country': 'México', 'formattedAddress': ['Isabel La Católica #30', 'Ciudad de México, Distrito Federal', 'México']}\n",
      "{'address': 'Pino Suárez', 'lat': 19.429882601404035, 'lng': -99.13246092774207, 'labeledLatLngs': [{'label': 'display', 'lat': 19.429882601404035, 'lng': -99.13246092774207}], 'cc': 'MX', 'city': 'Ciudad de México', 'state': 'Distrito Federal', 'country': 'México', 'formattedAddress': ['Pino Suárez', 'Ciudad de México, Distrito Federal', 'México']}\n",
      "{'address': 'Plaza de la Constitución 13', 'lat': 19.432449763852436, 'lng': -99.13429529765517, 'labeledLatLngs': [{'label': 'display', 'lat': 19.432449763852436, 'lng': -99.13429529765517}], 'postalCode': '06000', 'cc': 'MX', 'city': 'Cuauhtemoc', 'state': 'Distrito Federal', 'country': 'México', 'formattedAddress': ['Plaza de la Constitución 13', '06000 Cuauhtémoc, Distrito Federal', 'México']}\n",
      "{'lat': 19.434903660388894, 'lng': -99.13381276650479, 'labeledLatLngs': [{'label': 'display', 'lat': 19.434903660388894, 'lng': -99.13381276650479}], 'cc': 'MX', 'country': 'México', 'formattedAddress': ['México']}\n",
      "{'lat': 19.42785040636309, 'lng': -99.1362919741722, 'labeledLatLngs': [{'label': 'display', 'lat': 19.42785040636309, 'lng': -99.1362919741722}], 'cc': 'MX', 'country': 'México', 'formattedAddress': ['México']}\n",
      "{'address': 'Rodriguez Puebla 11', 'lat': 19.436978038244817, 'lng': -99.12732240456566, 'labeledLatLngs': [{'label': 'display', 'lat': 19.436978038244817, 'lng': -99.12732240456566}], 'cc': 'MX', 'city': 'Ciudad de México', 'state': 'Distrito Federal', 'country': 'México', 'formattedAddress': ['Rodriguez Puebla 11', 'Ciudad de México, Distrito Federal', 'México']}\n",
      "{'address': 'Regina 43-B', 'lat': 19.42780114382071, 'lng': -99.13608301324648, 'labeledLatLngs': [{'label': 'display', 'lat': 19.42780114382071, 'lng': -99.13608301324648}], 'cc': 'MX', 'city': 'Ciudad de México', 'state': 'Distrito Federal', 'country': 'México', 'formattedAddress': ['Regina 43-B', 'Ciudad de México, Distrito Federal', 'México']}\n",
      "{'address': 'Mesones 55', 'lat': 19.428656504039306, 'lng': -99.1367322333881, 'labeledLatLngs': [{'label': 'display', 'lat': 19.428656504039306, 'lng': -99.1367322333881}], 'cc': 'MX', 'city': 'Ciudad de México', 'state': 'Distrito Federal', 'country': 'México', 'formattedAddress': ['Mesones 55', 'Ciudad de México, Distrito Federal', 'México']}\n",
      "{'lat': 19.428621264543633, 'lng': -99.13659624069415, 'labeledLatLngs': [{'label': 'display', 'lat': 19.428621264543633, 'lng': -99.13659624069415}], 'cc': 'MX', 'country': 'México', 'formattedAddress': ['México']}\n",
      "{'lat': 19.42666723094862, 'lng': -99.13537213438671, 'labeledLatLngs': [{'label': 'display', 'lat': 19.42666723094862, 'lng': -99.13537213438671}], 'cc': 'MX', 'country': 'México', 'formattedAddress': ['México']}\n",
      "{'lat': 19.43247654030382, 'lng': -99.1343272066804, 'labeledLatLngs': [{'label': 'display', 'lat': 19.43247654030382, 'lng': -99.1343272066804}], 'cc': 'MX', 'country': 'México', 'formattedAddress': ['México']}\n",
      "{'address': 'Calle 5 de Febrero #71', 'crossStreet': 'San Jerónimo', 'lat': 19.426892949642358, 'lng': -99.13517537155849, 'labeledLatLngs': [{'label': 'display', 'lat': 19.426892949642358, 'lng': -99.13517537155849}], 'postalCode': '06500', 'cc': 'MX', 'city': 'Cuauhtemoc', 'state': 'Distrito Federal', 'country': 'México', 'formattedAddress': ['Calle 5 de Febrero #71 (San Jerónimo)', '06500 Cuauhtémoc, Ciudad de México, DF, Distrito Federal', 'México']}\n",
      "{'address': 'Francisco I. Madero #20, 2° piso', 'crossStreet': 'Gante', 'lat': 19.426855109358097, 'lng': -99.13537161783815, 'labeledLatLngs': [{'label': 'display', 'lat': 19.426855109358097, 'lng': -99.13537161783815}], 'cc': 'MX', 'city': 'Ciudad de México', 'state': 'Distrito Federal', 'country': 'México', 'formattedAddress': ['Francisco I. Madero #20, 2° piso (Gante)', 'Ciudad de México, Distrito Federal', 'México']}\n",
      "{'lat': 19.42755, 'lng': -99.134456, 'labeledLatLngs': [{'label': 'display', 'lat': 19.42755, 'lng': -99.134456}], 'cc': 'MX', 'country': 'México', 'formattedAddress': ['México']}\n",
      "{'address': 'San Jerónimo', 'crossStreet': '5 De Febrero', 'lat': 19.426897754297304, 'lng': -99.13531161828703, 'labeledLatLngs': [{'label': 'display', 'lat': 19.426897754297304, 'lng': -99.13531161828703}], 'cc': 'MX', 'city': 'Centro Histórico', 'state': 'Distrito Federal', 'country': 'México', 'formattedAddress': ['San Jerónimo (5 De Febrero)', 'Centro Histórico, Distrito Federal', 'México']}\n",
      "{'address': 'Regina', 'lat': 19.427900002079465, 'lng': -99.13601810167563, 'labeledLatLngs': [{'label': 'display', 'lat': 19.427900002079465, 'lng': -99.13601810167563}], 'cc': 'MX', 'state': 'Distrito Federal', 'country': 'México', 'formattedAddress': ['Regina', 'Distrito Federal', 'México']}\n",
      "{'address': 'Donceles 105 C', 'lat': 19.42779913264309, 'lng': -99.13509077435751, 'labeledLatLngs': [{'label': 'display', 'lat': 19.42779913264309, 'lng': -99.13509077435751}], 'cc': 'MX', 'city': 'Ciudad de México', 'state': 'Distrito Federal', 'country': 'México', 'formattedAddress': ['Donceles 105 C', 'Ciudad de México, Distrito Federal', 'México']}\n",
      "{'address': 'Regina 43', 'crossStreet': 'Mesones', 'lat': 19.42783431364136, 'lng': -99.13611820497276, 'labeledLatLngs': [{'label': 'display', 'lat': 19.42783431364136, 'lng': -99.13611820497276}], 'cc': 'MX', 'city': 'Ciudad de México', 'state': 'Distrito Federal', 'country': 'México', 'formattedAddress': ['Regina 43 (Mesones)', 'Ciudad de México, Distrito Federal', 'México']}\n",
      "{'address': 'Calle Regina 27-b', 'crossStreet': 'Isabel La Católica', 'lat': 19.427900455443066, 'lng': -99.13664860499786, 'labeledLatLngs': [{'label': 'display', 'lat': 19.427900455443066, 'lng': -99.13664860499786}], 'postalCode': '06080', 'cc': 'MX', 'neighborhood': 'Centro Histórico', 'city': 'Cuauhtémoc', 'state': 'CDMX', 'country': 'México', 'formattedAddress': ['Calle Regina 27-b (Isabel La Católica)', '06080 Cuauhtémoc, CDMX', 'México']}\n",
      "{'lat': 19.426855, 'lng': -99.13586, 'labeledLatLngs': [{'label': 'display', 'lat': 19.426855, 'lng': -99.13586}], 'postalCode': '06090', 'cc': 'MX', 'neighborhood': 'Downtown', 'city': 'Ciudad de México', 'state': 'Distrito Federal', 'country': 'México', 'formattedAddress': ['06090 Ciudad de México, Distrito Federal', 'México']}\n",
      "{'lat': 19.42786290497111, 'lng': -99.13639788430937, 'labeledLatLngs': [{'label': 'display', 'lat': 19.42786290497111, 'lng': -99.13639788430937}], 'cc': 'MX', 'country': 'México', 'formattedAddress': ['México']}\n",
      "{'lat': 19.427944740154, 'lng': -99.13675076832988, 'labeledLatLngs': [{'label': 'display', 'lat': 19.427944740154, 'lng': -99.13675076832988}], 'cc': 'MX', 'country': 'México', 'formattedAddress': ['México']}\n",
      "{'lat': 19.435198321473145, 'lng': -99.13303467196695, 'labeledLatLngs': [{'label': 'display', 'lat': 19.435198321473145, 'lng': -99.13303467196695}], 'cc': 'MX', 'country': 'México', 'formattedAddress': ['México']}\n",
      "{'address': 'L. Gonzalez Obregón 25', 'crossStreet': 'Col. Centro', 'lat': 19.43536529573128, 'lng': -99.13299829283085, 'labeledLatLngs': [{'label': 'display', 'lat': 19.43536529573128, 'lng': -99.13299829283085}], 'cc': 'MX', 'city': 'Ciudad de México', 'state': 'Distrito Federal', 'country': 'México', 'formattedAddress': ['L. Gonzalez Obregón 25 (Col. Centro)', 'Ciudad de México, Distrito Federal', 'México']}\n",
      "{'address': 'Agustín Delgado 16', 'lat': 19.420649056666512, 'lng': -99.1321012101354, 'labeledLatLngs': [{'label': 'display', 'lat': 19.420649056666512, 'lng': -99.1321012101354}], 'cc': 'MX', 'city': 'Ciudad de México', 'state': 'Distrito Federal', 'country': 'México', 'formattedAddress': ['Agustín Delgado 16', 'Ciudad de México, Distrito Federal', 'México']}\n",
      "{'address': 'Corredor San Jerónimo', 'crossStreet': 'Isabel La Católica', 'lat': 19.427058818715157, 'lng': -99.13707157756568, 'labeledLatLngs': [{'label': 'display', 'lat': 19.427058818715157, 'lng': -99.13707157756568}], 'postalCode': '06000', 'cc': 'MX', 'city': 'Ciudad de México', 'state': 'CDMX', 'country': 'México', 'formattedAddress': ['Corredor San Jerónimo (Isabel La Católica)', '06000 Ciudad de México, CDMX', 'México']}\n"
     ]
    },
    {
     "data": {
      "text/html": [
       "<div>\n",
       "<style scoped>\n",
       "    .dataframe tbody tr th:only-of-type {\n",
       "        vertical-align: middle;\n",
       "    }\n",
       "\n",
       "    .dataframe tbody tr th {\n",
       "        vertical-align: top;\n",
       "    }\n",
       "\n",
       "    .dataframe thead th {\n",
       "        text-align: right;\n",
       "    }\n",
       "</style>\n",
       "<table border=\"1\" class=\"dataframe\">\n",
       "  <thead>\n",
       "    <tr style=\"text-align: right;\">\n",
       "      <th></th>\n",
       "      <th>uid</th>\n",
       "      <th>name</th>\n",
       "      <th>shortname</th>\n",
       "      <th>address</th>\n",
       "      <th>postalcode</th>\n",
       "      <th>lat</th>\n",
       "      <th>lng</th>\n",
       "    </tr>\n",
       "  </thead>\n",
       "  <tbody>\n",
       "    <tr>\n",
       "      <th>0</th>\n",
       "      <td>4f67bea9c2ee09e7b3e57225</td>\n",
       "      <td>Terraza Catedral</td>\n",
       "      <td>Beer Garden</td>\n",
       "      <td></td>\n",
       "      <td>06020</td>\n",
       "      <td>19.435306</td>\n",
       "      <td>-99.133657</td>\n",
       "    </tr>\n",
       "    <tr>\n",
       "      <th>1</th>\n",
       "      <td>4d0dbb4dbe6d6ea800e706b5</td>\n",
       "      <td>Hostería La Bota</td>\n",
       "      <td>Tapas</td>\n",
       "      <td></td>\n",
       "      <td>06050</td>\n",
       "      <td>19.427067</td>\n",
       "      <td>-99.137017</td>\n",
       "    </tr>\n",
       "    <tr>\n",
       "      <th>2</th>\n",
       "      <td>4b0586fef964a520c47922e3</td>\n",
       "      <td>La Casa de las Sirenas</td>\n",
       "      <td>Cocktail</td>\n",
       "      <td></td>\n",
       "      <td>06000</td>\n",
       "      <td>19.434975</td>\n",
       "      <td>-99.132292</td>\n",
       "    </tr>\n",
       "    <tr>\n",
       "      <th>3</th>\n",
       "      <td>51a0208d498e210b5bd14aec</td>\n",
       "      <td>Terraza Regina</td>\n",
       "      <td>Beer Garden</td>\n",
       "      <td></td>\n",
       "      <td>06090</td>\n",
       "      <td>19.427770</td>\n",
       "      <td>-99.135235</td>\n",
       "    </tr>\n",
       "    <tr>\n",
       "      <th>4</th>\n",
       "      <td>50c7edd9e4b0dec51dff8ef4</td>\n",
       "      <td>Hilaria Gastrobar</td>\n",
       "      <td>Bar</td>\n",
       "      <td></td>\n",
       "      <td>06000</td>\n",
       "      <td>19.433335</td>\n",
       "      <td>-99.135603</td>\n",
       "    </tr>\n",
       "  </tbody>\n",
       "</table>\n",
       "</div>"
      ],
      "text/plain": [
       "                        uid                    name    shortname address  \\\n",
       "0  4f67bea9c2ee09e7b3e57225        Terraza Catedral  Beer Garden           \n",
       "1  4d0dbb4dbe6d6ea800e706b5        Hostería La Bota        Tapas           \n",
       "2  4b0586fef964a520c47922e3  La Casa de las Sirenas     Cocktail           \n",
       "3  51a0208d498e210b5bd14aec          Terraza Regina  Beer Garden           \n",
       "4  50c7edd9e4b0dec51dff8ef4       Hilaria Gastrobar          Bar           \n",
       "\n",
       "  postalcode        lat        lng  \n",
       "0      06020  19.435306 -99.133657  \n",
       "1      06050  19.427067 -99.137017  \n",
       "2      06000  19.434975 -99.132292  \n",
       "3      06090  19.427770 -99.135235  \n",
       "4      06000  19.433335 -99.135603  "
      ]
     },
     "execution_count": 12,
     "metadata": {},
     "output_type": "execute_result"
    }
   ],
   "source": [
    "df_raw = []\n",
    "for item in items:\n",
    "    venue = item[\"venue\"]\n",
    "    categories, uid, name, location = venue[\"categories\"], venue[\"id\"], venue[\"name\"], venue[\"location\"]\n",
    "    print(location)\n",
    "    assert len(categories) == 1\n",
    "    shortname = categories[0][\"shortName\"]\n",
    "    address =  ''\n",
    "    if hasattr(location, 'address'):\n",
    "      address = location['address']\n",
    "    if not \"postalCode\" in location:\n",
    "        continue\n",
    "    postalcode = location[\"postalCode\"]\n",
    "    lat = location[\"lat\"]\n",
    "    lng = location[\"lng\"]\n",
    "    datarow = (uid, name, shortname, address, postalcode, lat, lng)\n",
    "    df_raw.append(datarow)\n",
    "df = pd.DataFrame(df_raw, columns=[\"uid\", \"name\", \"shortname\", \"address\", \"postalcode\", \"lat\", \"lng\"])\n",
    "df.head()"
   ]
  },
  {
   "cell_type": "markdown",
   "metadata": {},
   "source": [
    "**As we can see that there are many bars without address we need to execute hasattr() to determine if each object (beverage business) has a attribute (address).**\n",
    "\n",
    "**Next step we will execute a very important part - get coordinates of Mexico City and create folium map which will help visualize what we have got from data.** "
   ]
  },
  {
   "cell_type": "code",
   "execution_count": 13,
   "metadata": {},
   "outputs": [
    {
     "data": {
      "text/plain": [
       "{'lat': 19.42847, 'lng': -99.12766}"
      ]
     },
     "execution_count": 13,
     "metadata": {},
     "output_type": "execute_result"
    }
   ],
   "source": [
    "mc_center = d[\"geocode\"][\"center\"]\n",
    "mc_center"
   ]
  },
  {
   "cell_type": "code",
   "execution_count": 14,
   "metadata": {},
   "outputs": [
    {
     "data": {
      "text/html": [
       "<div style=\"width:100%;\"><div style=\"position:relative;width:100%;height:0;padding-bottom:60%;\"><span style=\"color:#565656\">Make this Notebook Trusted to load map: File -> Trust Notebook</span><iframe src=\"about:blank\" style=\"position:absolute;width:100%;height:100%;left:0;top:0;border:none !important;\" data-html=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 onload=\"this.contentDocument.open();this.contentDocument.write(atob(this.getAttribute('data-html')));this.contentDocument.close();\" allowfullscreen webkitallowfullscreen mozallowfullscreen></iframe></div></div>"
      ],
      "text/plain": [
       "<folium.folium.Map at 0x7f176ebb55d0>"
      ]
     },
     "execution_count": 14,
     "metadata": {},
     "output_type": "execute_result"
    }
   ],
   "source": [
    "from folium import plugins\n",
    "\n",
    "map_mc = folium.Map(location=[19.42847, -99.12766], zoom_start=14)\n",
    "\n",
    "def add_markers(df):\n",
    "    for (j, row) in df.iterrows():\n",
    "        label = folium.Popup(row[\"name\"], parse_html=True)\n",
    "        folium.CircleMarker(\n",
    "            [row[\"lat\"], row[\"lng\"]],\n",
    "            radius=5,\n",
    "            popup=label,\n",
    "            color='red',\n",
    "            fill=True,\n",
    "            fill_color='#3186cc',\n",
    "            fill_opacity=0.7,\n",
    "            parse_html=False).add_to(map_mc)\n",
    "\n",
    "add_markers(df)\n",
    "hm_data = df[[\"lat\", \"lng\"]].to_numpy().tolist()\n",
    "map_mc.add_child(plugins.HeatMap(hm_data))\n",
    "\n",
    "map_mc"
   ]
  },
  {
   "cell_type": "markdown",
   "metadata": {},
   "source": [
    "**On the map we can see the busiest bars in the center of Mexico City**   \n",
    "**We need a place near and at a certain distance from the busiest places to decrease business competitiveness** "
   ]
  },
  {
   "cell_type": "code",
   "execution_count": 17,
   "metadata": {},
   "outputs": [
    {
     "data": {
      "text/html": [
       "<div style=\"width:100%;\"><div style=\"position:relative;width:100%;height:0;padding-bottom:60%;\"><span style=\"color:#565656\">Make this Notebook Trusted to load map: File -> Trust Notebook</span><iframe src=\"about:blank\" style=\"position:absolute;width:100%;height:100%;left:0;top:0;border:none !important;\" data-html=PCFET0NUWVBFIGh0bWw+CjxoZWFkPiAgICAKICAgIDxtZXRhIGh0dHAtZXF1aXY9ImNvbnRlbnQtdHlwZSIgY29udGVudD0idGV4dC9odG1sOyBjaGFyc2V0PVVURi04IiAvPgogICAgPHNjcmlwdD5MX1BSRUZFUl9DQU5WQVMgPSBmYWxzZTsgTF9OT19UT1VDSCA9IGZhbHNlOyBMX0RJU0FCTEVfM0QgPSBmYWxzZTs8L3NjcmlwdD4KICAgIDxzY3JpcHQgc3JjPSJodHRwczovL2Nkbi5qc2RlbGl2ci5uZXQvbnBtL2xlYWZsZXRAMS4yLjAvZGlzdC9sZWFmbGV0LmpzIj48L3NjcmlwdD4KICAgIDxzY3JpcHQgc3JjPSJodHRwczovL2FqYXguZ29vZ2xlYXBpcy5jb20vYWpheC9saWJzL2pxdWVyeS8xLjExLjEvanF1ZXJ5Lm1pbi5qcyI+PC9zY3JpcHQ+CiAgICA8c2NyaXB0IHNyYz0iaHR0cHM6Ly9tYXhjZG4uYm9vdHN0cmFwY2RuLmNvbS9ib290c3RyYXAvMy4yLjAvanMvYm9vdHN0cmFwLm1pbi5qcyI+PC9zY3JpcHQ+CiAgICA8c2NyaXB0IHNyYz0iaHR0cHM6Ly9jZG5qcy5jbG91ZGZsYXJlLmNvbS9hamF4L2xpYnMvTGVhZmxldC5hd2Vzb21lLW1hcmtlcnMvMi4wLjIvbGVhZmxldC5hd2Vzb21lLW1hcmtlcnMuanMiPjwvc2NyaXB0PgogICAgPGxpbmsgcmVsPSJzdHlsZXNoZWV0IiBocmVmPSJodHRwczovL2Nkbi5qc2RlbGl2ci5uZXQvbnBtL2xlYWZsZXRAMS4yLjAvZGlzdC9sZWFmbGV0LmNzcyIvPgogICAgPGxpbmsgcmVsPSJzdHlsZXNoZWV0IiBocmVmPSJodHRwczovL21heGNkbi5ib290c3RyYXBjZG4uY29tL2Jvb3RzdHJhcC8zLjIuMC9jc3MvYm9vdHN0cmFwLm1pbi5jc3MiLz4KICAgIDxsaW5rIHJlbD0ic3R5bGVzaGVldCIgaHJlZj0iaHR0cHM6Ly9tYXhjZG4uYm9vdHN0cmFwY2RuLmNvbS9ib290c3RyYXAvMy4yLjAvY3NzL2Jvb3RzdHJhcC10aGVtZS5taW4uY3NzIi8+CiAgICA8bGluayByZWw9InN0eWxlc2hlZXQiIGhyZWY9Imh0dHBzOi8vbWF4Y2RuLmJvb3RzdHJhcGNkbi5jb20vZm9udC1hd2Vzb21lLzQuNi4zL2Nzcy9mb250LWF3ZXNvbWUubWluLmNzcyIvPgogICAgPGxpbmsgcmVsPSJzdHlsZXNoZWV0IiBocmVmPSJodHRwczovL2NkbmpzLmNsb3VkZmxhcmUuY29tL2FqYXgvbGlicy9MZWFmbGV0LmF3ZXNvbWUtbWFya2Vycy8yLjAuMi9sZWFmbGV0LmF3ZXNvbWUtbWFya2Vycy5jc3MiLz4KICAgIDxsaW5rIHJlbD0ic3R5bGVzaGVldCIgaHJlZj0iaHR0cHM6Ly9yYXdnaXQuY29tL3B5dGhvbi12aXN1YWxpemF0aW9uL2ZvbGl1bS9tYXN0ZXIvZm9saXVtL3RlbXBsYXRlcy9sZWFmbGV0LmF3ZXNvbWUucm90YXRlLmNzcyIvPgogICAgPHN0eWxlPmh0bWwsIGJvZHkge3dpZHRoOiAxMDAlO2hlaWdodDogMTAwJTttYXJnaW46IDA7cGFkZGluZzogMDt9PC9zdHlsZT4KICAgIDxzdHlsZT4jbWFwIHtwb3NpdGlvbjphYnNvbHV0ZTt0b3A6MDtib3R0b206MDtyaWdodDowO2xlZnQ6MDt9PC9zdHlsZT4KICAgIAogICAgICAgICAgICA8c3R5bGU+ICNtYXBfYmQyZjAxYmUwMzEwNGZjMmI5ZTk2MThiMWM2OWE1YWEgewogICAgICAgICAgICAgICAgcG9zaXRpb24gOiByZWxhdGl2ZTsKICAgICAgICAgICAgICAgIHdpZHRoIDogMTAwLjAlOwogICAgICAgICAgICAgICAgaGVpZ2h0OiAxMDAuMCU7CiAgICAgICAgICAgICAgICBsZWZ0OiAwLjAlOwogICAgICAgICAgICAgICAgdG9wOiAwLjAlOwogICAgICAgICAgICAgICAgfQogICAgICAgICAgICA8L3N0eWxlPgogICAgICAgIAo8L2hlYWQ+Cjxib2R5PiAgICAKICAgIAogICAgICAgICAgICA8ZGl2IGNsYXNzPSJmb2xpdW0tbWFwIiBpZD0ibWFwX2JkMmYwMWJlMDMxMDRmYzJiOWU5NjE4YjFjNjlhNWFhIiA+PC9kaXY+CiAgICAgICAgCjwvYm9keT4KPHNjcmlwdD4gICAgCiAgICAKCiAgICAgICAgICAgIAogICAgICAgICAgICAgICAgdmFyIGJvdW5kcyA9IG51bGw7CiAgICAgICAgICAgIAoKICAgICAgICAgICAgdmFyIG1hcF9iZDJmMDFiZTAzMTA0ZmMyYjllOTYxOGIxYzY5YTVhYSA9IEwubWFwKAogICAgICAgICAgICAgICAgICAgICAgICAgICAgICAgICAgJ21hcF9iZDJmMDFiZTAzMTA0ZmMyYjllOTYxOGIxYzY5YTVhYScsCiAgICAgICAgICAgICAgICAgICAgICAgICAgICAgICAgICB7Y2VudGVyOiBbMTkuNDI4NDcsLTk5LjEyNzY2XSwKICAgICAgICAgICAgICAgICAgICAgICAgICAgICAgICAgIHpvb206IDE2LAogICAgICAgICAgICAgICAgICAgICAgICAgICAgICAgICAgbWF4Qm91bmRzOiBib3VuZHMsCiAgICAgICAgICAgICAgICAgICAgICAgICAgICAgICAgICBsYXllcnM6IFtdLAogICAgICAgICAgICAgICAgICAgICAgICAgICAgICAgICAgd29ybGRDb3B5SnVtcDogZmFsc2UsCiAgICAgICAgICAgICAgICAgICAgICAgICAgICAgICAgICBjcnM6IEwuQ1JTLkVQU0czODU3CiAgICAgICAgICAgICAgICAgICAgICAgICAgICAgICAgIH0pOwogICAgICAgICAgICAKICAgICAgICAKICAgIAogICAgICAgICAgICB2YXIgdGlsZV9sYXllcl9lMzFlZjNlODVlZGU0YjA5OGQ4OTA2NGUxYjU3NGJkNCA9IEwudGlsZUxheWVyKAogICAgICAgICAgICAgICAgJ2h0dHBzOi8ve3N9LnRpbGUub3BlbnN0cmVldG1hcC5vcmcve3p9L3t4fS97eX0ucG5nJywKICAgICAgICAgICAgICAgIHsKICAiYXR0cmlidXRpb24iOiBudWxsLAogICJkZXRlY3RSZXRpbmEiOiBmYWxzZSwKICAibWF4Wm9vbSI6IDE4LAogICJtaW5ab29tIjogMSwKICAibm9XcmFwIjogZmFsc2UsCiAgInN1YmRvbWFpbnMiOiAiYWJjIgp9CiAgICAgICAgICAgICAgICApLmFkZFRvKG1hcF9iZDJmMDFiZTAzMTA0ZmMyYjllOTYxOGIxYzY5YTVhYSk7CiAgICAgICAgCiAgICAKICAgICAgICAgICAgdmFyIGNpcmNsZV9tYXJrZXJfNzc4OTBkMzkyZGQzNGM1YjhlYWY2OGYzN2RlZjAzMmQgPSBMLmNpcmNsZU1hcmtlcigKICAgICAgICAgICAgICAgIFsxOS40MzUzMDU4Mzc1MzEyMSwtOTkuMTMzNjU3MjkyMTkxMjddLAogICAgICAgICAgICAgICAgewogICJidWJibGluZ01vdXNlRXZlbnRzIjogdHJ1ZSwKICAiY29sb3IiOiAicmVkIiwKICAiZGFzaEFycmF5IjogbnVsbCwKICAiZGFzaE9mZnNldCI6IG51bGwsCiAgImZpbGwiOiB0cnVlLAogICJmaWxsQ29sb3IiOiAiIzMxODZjYyIsCiAgImZpbGxPcGFjaXR5IjogMC43LAogICJmaWxsUnVsZSI6ICJldmVub2RkIiwKICAibGluZUNhcCI6ICJyb3VuZCIsCiAgImxpbmVKb2luIjogInJvdW5kIiwKICAib3BhY2l0eSI6IDEuMCwKICAicmFkaXVzIjogNSwKICAic3Ryb2tlIjogdHJ1ZSwKICAid2VpZ2h0IjogMwp9CiAgICAgICAgICAgICAgICApLmFkZFRvKG1hcF9iZDJmMDFiZTAzMTA0ZmMyYjllOTYxOGIxYzY5YTVhYSk7CiAgICAgICAgICAgIAogICAgCiAgICAgICAgICAgIHZhciBwb3B1cF83NTNjY2Y3ZDNmNTE0YTg4YjQ5OGI5ZWQ1ZGYyN2U2OCA9IEwucG9wdXAoe21heFdpZHRoOiAnMzAwJ30pOwoKICAgICAgICAgICAgCiAgICAgICAgICAgICAgICB2YXIgaHRtbF81ZDQwNGZiNjlkZDQ0ZjdkYTUzOGZjOTg4YmVhNWFmMiA9ICQoJzxkaXYgaWQ9Imh0bWxfNWQ0MDRmYjY5ZGQ0NGY3ZGE1MzhmYzk4OGJlYTVhZjIiIHN0eWxlPSJ3aWR0aDogMTAwLjAlOyBoZWlnaHQ6IDEwMC4wJTsiPlRlcnJhemEgQ2F0ZWRyYWw8L2Rpdj4nKVswXTsKICAgICAgICAgICAgICAgIHBvcHVwXzc1M2NjZjdkM2Y1MTRhODhiNDk4YjllZDVkZjI3ZTY4LnNldENvbnRlbnQoaHRtbF81ZDQwNGZiNjlkZDQ0ZjdkYTUzOGZjOTg4YmVhNWFmMik7CiAgICAgICAgICAgIAoKICAgICAgICAgICAgY2lyY2xlX21hcmtlcl83Nzg5MGQzOTJkZDM0YzViOGVhZjY4ZjM3ZGVmMDMyZC5iaW5kUG9wdXAocG9wdXBfNzUzY2NmN2QzZjUxNGE4OGI0OThiOWVkNWRmMjdlNjgpOwoKICAgICAgICAgICAgCiAgICAgICAgCiAgICAKICAgICAgICAgICAgdmFyIGNpcmNsZV9tYXJrZXJfNDVmNDgyYjFjOWFhNGUzOWI4NGFlMzY3MTUxNmIxOGQgPSBMLmNpcmNsZU1hcmtlcigKICAgICAgICAgICAgICAgIFsxOS40MjcwNjY3NDE4NzMyMjYsLTk5LjEzNzAxNjgyMjM2ODM3XSwKICAgICAgICAgICAgICAgIHsKICAiYnViYmxpbmdNb3VzZUV2ZW50cyI6IHRydWUsCiAgImNvbG9yIjogInJlZCIsCiAgImRhc2hBcnJheSI6IG51bGwsCiAgImRhc2hPZmZzZXQiOiBudWxsLAogICJmaWxsIjogdHJ1ZSwKICAiZmlsbENvbG9yIjogIiMzMTg2Y2MiLAogICJmaWxsT3BhY2l0eSI6IDAuNywKICAiZmlsbFJ1bGUiOiAiZXZlbm9kZCIsCiAgImxpbmVDYXAiOiAicm91bmQiLAogICJsaW5lSm9pbiI6ICJyb3VuZCIsCiAgIm9wYWNpdHkiOiAxLjAsCiAgInJhZGl1cyI6IDUsCiAgInN0cm9rZSI6IHRydWUsCiAgIndlaWdodCI6IDMKfQogICAgICAgICAgICAgICAgKS5hZGRUbyhtYXBfYmQyZjAxYmUwMzEwNGZjMmI5ZTk2MThiMWM2OWE1YWEpOwogICAgICAgICAgICAKICAgIAogICAgICAgICAgICB2YXIgcG9wdXBfZTYwZTYzMWQ0OTQ3NDE0NGJiZDZmNWFkMmYzZmU5NzYgPSBMLnBvcHVwKHttYXhXaWR0aDogJzMwMCd9KTsKCiAgICAgICAgICAgIAogICAgICAgICAgICAgICAgdmFyIGh0bWxfMmU0MWEzNmE0ZTBmNDlhY2FjZGNlYTUyYWVhYTA4NGUgPSAkKCc8ZGl2IGlkPSJodG1sXzJlNDFhMzZhNGUwZjQ5YWNhY2RjZWE1MmFlYWEwODRlIiBzdHlsZT0id2lkdGg6IDEwMC4wJTsgaGVpZ2h0OiAxMDAuMCU7Ij5Ib3N0ZXLDrWEgTGEgQm90YTwvZGl2PicpWzBdOwogICAgICAgICAgICAgICAgcG9wdXBfZTYwZTYzMWQ0OTQ3NDE0NGJiZDZmNWFkMmYzZmU5NzYuc2V0Q29udGVudChodG1sXzJlNDFhMzZhNGUwZjQ5YWNhY2RjZWE1MmFlYWEwODRlKTsKICAgICAgICAgICAgCgogICAgICAgICAgICBjaXJjbGVfbWFya2VyXzQ1ZjQ4MmIxYzlhYTRlMzliODRhZTM2NzE1MTZiMThkLmJpbmRQb3B1cChwb3B1cF9lNjBlNjMxZDQ5NDc0MTQ0YmJkNmY1YWQyZjNmZTk3Nik7CgogICAgICAgICAgICAKICAgICAgICAKICAgIAogICAgICAgICAgICB2YXIgY2lyY2xlX21hcmtlcl9hNTJiODgyN2JmNDU0NmQ4OWRlMzU4ZmM3MmE1NGY2NiA9IEwuY2lyY2xlTWFya2VyKAogICAgICAgICAgICAgICAgWzE5LjQzNDk3NDUxODAwMjM4LC05OS4xMzIyOTI0MjcyNjAxNV0sCiAgICAgICAgICAgICAgICB7CiAgImJ1YmJsaW5nTW91c2VFdmVudHMiOiB0cnVlLAogICJjb2xvciI6ICJyZWQiLAogICJkYXNoQXJyYXkiOiBudWxsLAogICJkYXNoT2Zmc2V0IjogbnVsbCwKICAiZmlsbCI6IHRydWUsCiAgImZpbGxDb2xvciI6ICIjMzE4NmNjIiwKICAiZmlsbE9wYWNpdHkiOiAwLjcsCiAgImZpbGxSdWxlIjogImV2ZW5vZGQiLAogICJsaW5lQ2FwIjogInJvdW5kIiwKICAibGluZUpvaW4iOiAicm91bmQiLAogICJvcGFjaXR5IjogMS4wLAogICJyYWRpdXMiOiA1LAogICJzdHJva2UiOiB0cnVlLAogICJ3ZWlnaHQiOiAzCn0KICAgICAgICAgICAgICAgICkuYWRkVG8obWFwX2JkMmYwMWJlMDMxMDRmYzJiOWU5NjE4YjFjNjlhNWFhKTsKICAgICAgICAgICAgCiAgICAKICAgICAgICAgICAgdmFyIHBvcHVwXzQzZGIyOTYwZTNmNTQyMzM4YTY1MWEwZWIxOWMzZjMwID0gTC5wb3B1cCh7bWF4V2lkdGg6ICczMDAnfSk7CgogICAgICAgICAgICAKICAgICAgICAgICAgICAgIHZhciBodG1sXzM4Njg1ZTg1YzEzZjRjMTVhOTkyNjliYzAwYzk3Yzc4ID0gJCgnPGRpdiBpZD0iaHRtbF8zODY4NWU4NWMxM2Y0YzE1YTk5MjY5YmMwMGM5N2M3OCIgc3R5bGU9IndpZHRoOiAxMDAuMCU7IGhlaWdodDogMTAwLjAlOyI+TGEgQ2FzYSBkZSBsYXMgU2lyZW5hczwvZGl2PicpWzBdOwogICAgICAgICAgICAgICAgcG9wdXBfNDNkYjI5NjBlM2Y1NDIzMzhhNjUxYTBlYjE5YzNmMzAuc2V0Q29udGVudChodG1sXzM4Njg1ZTg1YzEzZjRjMTVhOTkyNjliYzAwYzk3Yzc4KTsKICAgICAgICAgICAgCgogICAgICAgICAgICBjaXJjbGVfbWFya2VyX2E1MmI4ODI3YmY0NTQ2ZDg5ZGUzNThmYzcyYTU0ZjY2LmJpbmRQb3B1cChwb3B1cF80M2RiMjk2MGUzZjU0MjMzOGE2NTFhMGViMTljM2YzMCk7CgogICAgICAgICAgICAKICAgICAgICAKICAgIAogICAgICAgICAgICB2YXIgY2lyY2xlX21hcmtlcl9kNjYwNzI0ZDI4ZDI0OTZmYTk2NDk3NjBjYWUzNTg0ZiA9IEwuY2lyY2xlTWFya2VyKAogICAgICAgICAgICAgICAgWzE5LjQyNzc2OTcxMjY0NjI1LC05OS4xMzUyMzQ3OTQ1MTI5NF0sCiAgICAgICAgICAgICAgICB7CiAgImJ1YmJsaW5nTW91c2VFdmVudHMiOiB0cnVlLAogICJjb2xvciI6ICJyZWQiLAogICJkYXNoQXJyYXkiOiBudWxsLAogICJkYXNoT2Zmc2V0IjogbnVsbCwKICAiZmlsbCI6IHRydWUsCiAgImZpbGxDb2xvciI6ICIjMzE4NmNjIiwKICAiZmlsbE9wYWNpdHkiOiAwLjcsCiAgImZpbGxSdWxlIjogImV2ZW5vZGQiLAogICJsaW5lQ2FwIjogInJvdW5kIiwKICAibGluZUpvaW4iOiAicm91bmQiLAogICJvcGFjaXR5IjogMS4wLAogICJyYWRpdXMiOiA1LAogICJzdHJva2UiOiB0cnVlLAogICJ3ZWlnaHQiOiAzCn0KICAgICAgICAgICAgICAgICkuYWRkVG8obWFwX2JkMmYwMWJlMDMxMDRmYzJiOWU5NjE4YjFjNjlhNWFhKTsKICAgICAgICAgICAgCiAgICAKICAgICAgICAgICAgdmFyIHBvcHVwX2I5YzM2OWQ0YWEyYjRkMGViMjUxNDZjMWFkZmZhNGNjID0gTC5wb3B1cCh7bWF4V2lkdGg6ICczMDAnfSk7CgogICAgICAgICAgICAKICAgICAgICAgICAgICAgIHZhciBodG1sXzNkYWNmNjBjMTVlYjQ5YzI5N2Q5NzM3NjlmODRhYzMwID0gJCgnPGRpdiBpZD0iaHRtbF8zZGFjZjYwYzE1ZWI0OWMyOTdkOTczNzY5Zjg0YWMzMCIgc3R5bGU9IndpZHRoOiAxMDAuMCU7IGhlaWdodDogMTAwLjAlOyI+VGVycmF6YSBSZWdpbmE8L2Rpdj4nKVswXTsKICAgICAgICAgICAgICAgIHBvcHVwX2I5YzM2OWQ0YWEyYjRkMGViMjUxNDZjMWFkZmZhNGNjLnNldENvbnRlbnQoaHRtbF8zZGFjZjYwYzE1ZWI0OWMyOTdkOTczNzY5Zjg0YWMzMCk7CiAgICAgICAgICAgIAoKICAgICAgICAgICAgY2lyY2xlX21hcmtlcl9kNjYwNzI0ZDI4ZDI0OTZmYTk2NDk3NjBjYWUzNTg0Zi5iaW5kUG9wdXAocG9wdXBfYjljMzY5ZDRhYTJiNGQwZWIyNTE0NmMxYWRmZmE0Y2MpOwoKICAgICAgICAgICAgCiAgICAgICAgCiAgICAKICAgICAgICAgICAgdmFyIGNpcmNsZV9tYXJrZXJfMDkyNzNmNzM1YjJhNGI3MGI4NmEyMTJhMjZmY2ViZDIgPSBMLmNpcmNsZU1hcmtlcigKICAgICAgICAgICAgICAgIFsxOS40MzMzMzU0OTY1NTg0NzQsLTk5LjEzNTYwMjU3Njk4NDkyXSwKICAgICAgICAgICAgICAgIHsKICAiYnViYmxpbmdNb3VzZUV2ZW50cyI6IHRydWUsCiAgImNvbG9yIjogInJlZCIsCiAgImRhc2hBcnJheSI6IG51bGwsCiAgImRhc2hPZmZzZXQiOiBudWxsLAogICJmaWxsIjogdHJ1ZSwKICAiZmlsbENvbG9yIjogIiMzMTg2Y2MiLAogICJmaWxsT3BhY2l0eSI6IDAuNywKICAiZmlsbFJ1bGUiOiAiZXZlbm9kZCIsCiAgImxpbmVDYXAiOiAicm91bmQiLAogICJsaW5lSm9pbiI6ICJyb3VuZCIsCiAgIm9wYWNpdHkiOiAxLjAsCiAgInJhZGl1cyI6IDUsCiAgInN0cm9rZSI6IHRydWUsCiAgIndlaWdodCI6IDMKfQogICAgICAgICAgICAgICAgKS5hZGRUbyhtYXBfYmQyZjAxYmUwMzEwNGZjMmI5ZTk2MThiMWM2OWE1YWEpOwogICAgICAgICAgICAKICAgIAogICAgICAgICAgICB2YXIgcG9wdXBfZGRiYzFjYzQ3YmNkNGI3ZDkyN2U4ZGU1NjZjZmE5YjcgPSBMLnBvcHVwKHttYXhXaWR0aDogJzMwMCd9KTsKCiAgICAgICAgICAgIAogICAgICAgICAgICAgICAgdmFyIGh0bWxfZjQ1OWRmOWQ3ZDEwNDkyMWI3M2E4YTE0Y2Q5M2Y5YTAgPSAkKCc8ZGl2IGlkPSJodG1sX2Y0NTlkZjlkN2QxMDQ5MjFiNzNhOGExNGNkOTNmOWEwIiBzdHlsZT0id2lkdGg6IDEwMC4wJTsgaGVpZ2h0OiAxMDAuMCU7Ij5IaWxhcmlhIEdhc3Ryb2JhcjwvZGl2PicpWzBdOwogICAgICAgICAgICAgICAgcG9wdXBfZGRiYzFjYzQ3YmNkNGI3ZDkyN2U4ZGU1NjZjZmE5Yjcuc2V0Q29udGVudChodG1sX2Y0NTlkZjlkN2QxMDQ5MjFiNzNhOGExNGNkOTNmOWEwKTsKICAgICAgICAgICAgCgogICAgICAgICAgICBjaXJjbGVfbWFya2VyXzA5MjczZjczNWIyYTRiNzBiODZhMjEyYTI2ZmNlYmQyLmJpbmRQb3B1cChwb3B1cF9kZGJjMWNjNDdiY2Q0YjdkOTI3ZThkZTU2NmNmYTliNyk7CgogICAgICAgICAgICAKICAgICAgICAKICAgIAogICAgICAgICAgICB2YXIgY2lyY2xlX21hcmtlcl84OWYxOTlkNTBjMDI0ZWIwYWU5N2QxNGU1NWMwZDMwNCA9IEwuY2lyY2xlTWFya2VyKAogICAgICAgICAgICAgICAgWzE5LjQyNzExODY2OTMyODU2NCwtOTkuMTM2ODQzMTYwMTI0M10sCiAgICAgICAgICAgICAgICB7CiAgImJ1YmJsaW5nTW91c2VFdmVudHMiOiB0cnVlLAogICJjb2xvciI6ICJyZWQiLAogICJkYXNoQXJyYXkiOiBudWxsLAogICJkYXNoT2Zmc2V0IjogbnVsbCwKICAiZmlsbCI6IHRydWUsCiAgImZpbGxDb2xvciI6ICIjMzE4NmNjIiwKICAiZmlsbE9wYWNpdHkiOiAwLjcsCiAgImZpbGxSdWxlIjogImV2ZW5vZGQiLAogICJsaW5lQ2FwIjogInJvdW5kIiwKICAibGluZUpvaW4iOiAicm91bmQiLAogICJvcGFjaXR5IjogMS4wLAogICJyYWRpdXMiOiA1LAogICJzdHJva2UiOiB0cnVlLAogICJ3ZWlnaHQiOiAzCn0KICAgICAgICAgICAgICAgICkuYWRkVG8obWFwX2JkMmYwMWJlMDMxMDRmYzJiOWU5NjE4YjFjNjlhNWFhKTsKICAgICAgICAgICAgCiAgICAKICAgICAgICAgICAgdmFyIHBvcHVwXzgwNWI4NTc2YWQ2NDRhNjNiYzdjOTA4YmU2ZjM1YjJkID0gTC5wb3B1cCh7bWF4V2lkdGg6ICczMDAnfSk7CgogICAgICAgICAgICAKICAgICAgICAgICAgICAgIHZhciBodG1sXzMxODcwZGJjNjM4MTRhYzZhMTQ1NzVjZjRhNDcxNWRiID0gJCgnPGRpdiBpZD0iaHRtbF8zMTg3MGRiYzYzODE0YWM2YTE0NTc1Y2Y0YTQ3MTVkYiIgc3R5bGU9IndpZHRoOiAxMDAuMCU7IGhlaWdodDogMTAwLjAlOyI+SmVyw7NuaW1hczwvZGl2PicpWzBdOwogICAgICAgICAgICAgICAgcG9wdXBfODA1Yjg1NzZhZDY0NGE2M2JjN2M5MDhiZTZmMzViMmQuc2V0Q29udGVudChodG1sXzMxODcwZGJjNjM4MTRhYzZhMTQ1NzVjZjRhNDcxNWRiKTsKICAgICAgICAgICAgCgogICAgICAgICAgICBjaXJjbGVfbWFya2VyXzg5ZjE5OWQ1MGMwMjRlYjBhZTk3ZDE0ZTU1YzBkMzA0LmJpbmRQb3B1cChwb3B1cF84MDViODU3NmFkNjQ0YTYzYmM3YzkwOGJlNmYzNWIyZCk7CgogICAgICAgICAgICAKICAgICAgICAKICAgIAogICAgICAgICAgICB2YXIgY2lyY2xlX21hcmtlcl9iNzYxYmFlZTAyYmQ0ZTlmODAyOTBmZDE4MjljZDQwZiA9IEwuY2lyY2xlTWFya2VyKAogICAgICAgICAgICAgICAgWzE5LjQyNzg2MDEyODc1MjA3NiwtOTkuMTM2NDg0MzQ4NzA4NDFdLAogICAgICAgICAgICAgICAgewogICJidWJibGluZ01vdXNlRXZlbnRzIjogdHJ1ZSwKICAiY29sb3IiOiAicmVkIiwKICAiZGFzaEFycmF5IjogbnVsbCwKICAiZGFzaE9mZnNldCI6IG51bGwsCiAgImZpbGwiOiB0cnVlLAogICJmaWxsQ29sb3IiOiAiIzMxODZjYyIsCiAgImZpbGxPcGFjaXR5IjogMC43LAogICJmaWxsUnVsZSI6ICJldmVub2RkIiwKICAibGluZUNhcCI6ICJyb3VuZCIsCiAgImxpbmVKb2luIjogInJvdW5kIiwKICAib3BhY2l0eSI6IDEuMCwKICAicmFkaXVzIjogNSwKICAic3Ryb2tlIjogdHJ1ZSwKICAid2VpZ2h0IjogMwp9CiAgICAgICAgICAgICAgICApLmFkZFRvKG1hcF9iZDJmMDFiZTAzMTA0ZmMyYjllOTYxOGIxYzY5YTVhYSk7CiAgICAgICAgICAgIAogICAgCiAgICAgICAgICAgIHZhciBwb3B1cF9hMDAxYjcwZDUxNjk0NzQ1ODBmZWQwZjkxZDljMmFlOCA9IEwucG9wdXAoe21heFdpZHRoOiAnMzAwJ30pOwoKICAgICAgICAgICAgCiAgICAgICAgICAgICAgICB2YXIgaHRtbF8yNTllZWY4Mzk5YzU0M2FkYmEzOGJjMjVkMWE5ZTMxMyA9ICQoJzxkaXYgaWQ9Imh0bWxfMjU5ZWVmODM5OWM1NDNhZGJhMzhiYzI1ZDFhOWUzMTMiIHN0eWxlPSJ3aWR0aDogMTAwLjAlOyBoZWlnaHQ6IDEwMC4wJTsiPkVsIE1leGljYW5vPC9kaXY+JylbMF07CiAgICAgICAgICAgICAgICBwb3B1cF9hMDAxYjcwZDUxNjk0NzQ1ODBmZWQwZjkxZDljMmFlOC5zZXRDb250ZW50KGh0bWxfMjU5ZWVmODM5OWM1NDNhZGJhMzhiYzI1ZDFhOWUzMTMpOwogICAgICAgICAgICAKCiAgICAgICAgICAgIGNpcmNsZV9tYXJrZXJfYjc2MWJhZWUwMmJkNGU5ZjgwMjkwZmQxODI5Y2Q0MGYuYmluZFBvcHVwKHBvcHVwX2EwMDFiNzBkNTE2OTQ3NDU4MGZlZDBmOTFkOWMyYWU4KTsKCiAgICAgICAgICAgIAogICAgICAgIAogICAgCiAgICAgICAgICAgIHZhciBjaXJjbGVfbWFya2VyX2Q5ZjU4OGQyZGZmZTRlNmQ4YTdiODBkNjk2MGE3OGEwID0gTC5jaXJjbGVNYXJrZXIoCiAgICAgICAgICAgICAgICBbMTkuNDI3Njc1MjIwODY4OTQsLTk5LjEzNTMxNTE1NDM4ODgzXSwKICAgICAgICAgICAgICAgIHsKICAiYnViYmxpbmdNb3VzZUV2ZW50cyI6IHRydWUsCiAgImNvbG9yIjogInJlZCIsCiAgImRhc2hBcnJheSI6IG51bGwsCiAgImRhc2hPZmZzZXQiOiBudWxsLAogICJmaWxsIjogdHJ1ZSwKICAiZmlsbENvbG9yIjogIiMzMTg2Y2MiLAogICJmaWxsT3BhY2l0eSI6IDAuNywKICAiZmlsbFJ1bGUiOiAiZXZlbm9kZCIsCiAgImxpbmVDYXAiOiAicm91bmQiLAogICJsaW5lSm9pbiI6ICJyb3VuZCIsCiAgIm9wYWNpdHkiOiAxLjAsCiAgInJhZGl1cyI6IDUsCiAgInN0cm9rZSI6IHRydWUsCiAgIndlaWdodCI6IDMKfQogICAgICAgICAgICAgICAgKS5hZGRUbyhtYXBfYmQyZjAxYmUwMzEwNGZjMmI5ZTk2MThiMWM2OWE1YWEpOwogICAgICAgICAgICAKICAgIAogICAgICAgICAgICB2YXIgcG9wdXBfZGYyOTM1MjRhNzljNGE3Mzk1ZjVjMWFjOWQzMWEyN2QgPSBMLnBvcHVwKHttYXhXaWR0aDogJzMwMCd9KTsKCiAgICAgICAgICAgIAogICAgICAgICAgICAgICAgdmFyIGh0bWxfOGY3MjlhYWM0MGEzNDFkYWJkNTk3YmJlODgzNTA1MTcgPSAkKCc8ZGl2IGlkPSJodG1sXzhmNzI5YWFjNDBhMzQxZGFiZDU5N2JiZTg4MzUwNTE3IiBzdHlsZT0id2lkdGg6IDEwMC4wJTsgaGVpZ2h0OiAxMDAuMCU7Ij5NZXpxdWl0ZTwvZGl2PicpWzBdOwogICAgICAgICAgICAgICAgcG9wdXBfZGYyOTM1MjRhNzljNGE3Mzk1ZjVjMWFjOWQzMWEyN2Quc2V0Q29udGVudChodG1sXzhmNzI5YWFjNDBhMzQxZGFiZDU5N2JiZTg4MzUwNTE3KTsKICAgICAgICAgICAgCgogICAgICAgICAgICBjaXJjbGVfbWFya2VyX2Q5ZjU4OGQyZGZmZTRlNmQ4YTdiODBkNjk2MGE3OGEwLmJpbmRQb3B1cChwb3B1cF9kZjI5MzUyNGE3OWM0YTczOTVmNWMxYWM5ZDMxYTI3ZCk7CgogICAgICAgICAgICAKICAgICAgICAKICAgIAogICAgICAgICAgICB2YXIgY2lyY2xlX21hcmtlcl8xMTNmZDlhODVlNmU0YzIyOTZjNGI0ZTE2MDBkMjcxMCA9IEwuY2lyY2xlTWFya2VyKAogICAgICAgICAgICAgICAgWzE5LjQyOTE4MTExMTY4NDk4MywtOTkuMTM2ODA2MzA1MDMyNDddLAogICAgICAgICAgICAgICAgewogICJidWJibGluZ01vdXNlRXZlbnRzIjogdHJ1ZSwKICAiY29sb3IiOiAicmVkIiwKICAiZGFzaEFycmF5IjogbnVsbCwKICAiZGFzaE9mZnNldCI6IG51bGwsCiAgImZpbGwiOiB0cnVlLAogICJmaWxsQ29sb3IiOiAiIzMxODZjYyIsCiAgImZpbGxPcGFjaXR5IjogMC43LAogICJmaWxsUnVsZSI6ICJldmVub2RkIiwKICAibGluZUNhcCI6ICJyb3VuZCIsCiAgImxpbmVKb2luIjogInJvdW5kIiwKICAib3BhY2l0eSI6IDEuMCwKICAicmFkaXVzIjogNSwKICAic3Ryb2tlIjogdHJ1ZSwKICAid2VpZ2h0IjogMwp9CiAgICAgICAgICAgICAgICApLmFkZFRvKG1hcF9iZDJmMDFiZTAzMTA0ZmMyYjllOTYxOGIxYzY5YTVhYSk7CiAgICAgICAgICAgIAogICAgCiAgICAgICAgICAgIHZhciBwb3B1cF9mMTE5OWE4NzlmZDA0YzZhOWU0MjQ3MGNjMmJhZjA1NCA9IEwucG9wdXAoe21heFdpZHRoOiAnMzAwJ30pOwoKICAgICAgICAgICAgCiAgICAgICAgICAgICAgICB2YXIgaHRtbF81ZmVhOTYyZGZlYjc0YjAxOGU2MzZhNzU4MTE1MzI1NyA9ICQoJzxkaXYgaWQ9Imh0bWxfNWZlYTk2MmRmZWI3NGIwMThlNjM2YTc1ODExNTMyNTciIHN0eWxlPSJ3aWR0aDogMTAwLjAlOyBoZWlnaHQ6IDEwMC4wJTsiPlRlcnJhemEgWFg8L2Rpdj4nKVswXTsKICAgICAgICAgICAgICAgIHBvcHVwX2YxMTk5YTg3OWZkMDRjNmE5ZTQyNDcwY2MyYmFmMDU0LnNldENvbnRlbnQoaHRtbF81ZmVhOTYyZGZlYjc0YjAxOGU2MzZhNzU4MTE1MzI1Nyk7CiAgICAgICAgICAgIAoKICAgICAgICAgICAgY2lyY2xlX21hcmtlcl8xMTNmZDlhODVlNmU0YzIyOTZjNGI0ZTE2MDBkMjcxMC5iaW5kUG9wdXAocG9wdXBfZjExOTlhODc5ZmQwNGM2YTllNDI0NzBjYzJiYWYwNTQpOwoKICAgICAgICAgICAgCiAgICAgICAgCiAgICAKICAgICAgICAgICAgdmFyIGNpcmNsZV9tYXJrZXJfMjE3YzA5ZmRmOTY2NGU0NWJlMDdjZjVlYjZlMGY0MjMgPSBMLmNpcmNsZU1hcmtlcigKICAgICAgICAgICAgICAgIFsxOS40MzI0NDk3NjM4NTI0MzYsLTk5LjEzNDI5NTI5NzY1NTE3XSwKICAgICAgICAgICAgICAgIHsKICAiYnViYmxpbmdNb3VzZUV2ZW50cyI6IHRydWUsCiAgImNvbG9yIjogInJlZCIsCiAgImRhc2hBcnJheSI6IG51bGwsCiAgImRhc2hPZmZzZXQiOiBudWxsLAogICJmaWxsIjogdHJ1ZSwKICAiZmlsbENvbG9yIjogIiMzMTg2Y2MiLAogICJmaWxsT3BhY2l0eSI6IDAuNywKICAiZmlsbFJ1bGUiOiAiZXZlbm9kZCIsCiAgImxpbmVDYXAiOiAicm91bmQiLAogICJsaW5lSm9pbiI6ICJyb3VuZCIsCiAgIm9wYWNpdHkiOiAxLjAsCiAgInJhZGl1cyI6IDUsCiAgInN0cm9rZSI6IHRydWUsCiAgIndlaWdodCI6IDMKfQogICAgICAgICAgICAgICAgKS5hZGRUbyhtYXBfYmQyZjAxYmUwMzEwNGZjMmI5ZTk2MThiMWM2OWE1YWEpOwogICAgICAgICAgICAKICAgIAogICAgICAgICAgICB2YXIgcG9wdXBfNDYxMDE1OTYxZWU1NDIwYzhiNDdmZjc1ZGIwNWI1YjUgPSBMLnBvcHVwKHttYXhXaWR0aDogJzMwMCd9KTsKCiAgICAgICAgICAgIAogICAgICAgICAgICAgICAgdmFyIGh0bWxfMzVlYTlmZjhiYzc1NGRkYTllMDAxZGZiOTBjNzU4NWEgPSAkKCc8ZGl2IGlkPSJodG1sXzM1ZWE5ZmY4YmM3NTRkZGE5ZTAwMWRmYjkwYzc1ODVhIiBzdHlsZT0id2lkdGg6IDEwMC4wJTsgaGVpZ2h0OiAxMDAuMCU7Ij5QYW5vcmFtYTwvZGl2PicpWzBdOwogICAgICAgICAgICAgICAgcG9wdXBfNDYxMDE1OTYxZWU1NDIwYzhiNDdmZjc1ZGIwNWI1YjUuc2V0Q29udGVudChodG1sXzM1ZWE5ZmY4YmM3NTRkZGE5ZTAwMWRmYjkwYzc1ODVhKTsKICAgICAgICAgICAgCgogICAgICAgICAgICBjaXJjbGVfbWFya2VyXzIxN2MwOWZkZjk2NjRlNDViZTA3Y2Y1ZWI2ZTBmNDIzLmJpbmRQb3B1cChwb3B1cF80NjEwMTU5NjFlZTU0MjBjOGI0N2ZmNzVkYjA1YjViNSk7CgogICAgICAgICAgICAKICAgICAgICAKICAgIAogICAgICAgICAgICB2YXIgY2lyY2xlX21hcmtlcl82NmUyYmMxMDhiN2Y0YWVhYjJhZGRjMjljZDAwMzYyOSA9IEwuY2lyY2xlTWFya2VyKAogICAgICAgICAgICAgICAgWzE5LjQyNjg5Mjk0OTY0MjM1OCwtOTkuMTM1MTc1MzcxNTU4NDldLAogICAgICAgICAgICAgICAgewogICJidWJibGluZ01vdXNlRXZlbnRzIjogdHJ1ZSwKICAiY29sb3IiOiAicmVkIiwKICAiZGFzaEFycmF5IjogbnVsbCwKICAiZGFzaE9mZnNldCI6IG51bGwsCiAgImZpbGwiOiB0cnVlLAogICJmaWxsQ29sb3IiOiAiIzMxODZjYyIsCiAgImZpbGxPcGFjaXR5IjogMC43LAogICJmaWxsUnVsZSI6ICJldmVub2RkIiwKICAibGluZUNhcCI6ICJyb3VuZCIsCiAgImxpbmVKb2luIjogInJvdW5kIiwKICAib3BhY2l0eSI6IDEuMCwKICAicmFkaXVzIjogNSwKICAic3Ryb2tlIjogdHJ1ZSwKICAid2VpZ2h0IjogMwp9CiAgICAgICAgICAgICAgICApLmFkZFRvKG1hcF9iZDJmMDFiZTAzMTA0ZmMyYjllOTYxOGIxYzY5YTVhYSk7CiAgICAgICAgICAgIAogICAgCiAgICAgICAgICAgIHZhciBwb3B1cF9mM2Q5ZjI3MDEzNmM0OTEyYjhjYjkyYTk1YjQ4MTc0OSA9IEwucG9wdXAoe21heFdpZHRoOiAnMzAwJ30pOwoKICAgICAgICAgICAgCiAgICAgICAgICAgICAgICB2YXIgaHRtbF84ZWJkNGRjZmEwMGM0NDJlOTcwNjY0Mjc5YzgxMjZjMCA9ICQoJzxkaXYgaWQ9Imh0bWxfOGViZDRkY2ZhMDBjNDQyZTk3MDY2NDI3OWM4MTI2YzAiIHN0eWxlPSJ3aWR0aDogMTAwLjAlOyBoZWlnaHQ6IDEwMC4wJTsiPlB1bHF1ZXLDrWEgTGEgQ2h1bGFkYSBkZWwgQ2VudHJvPC9kaXY+JylbMF07CiAgICAgICAgICAgICAgICBwb3B1cF9mM2Q5ZjI3MDEzNmM0OTEyYjhjYjkyYTk1YjQ4MTc0OS5zZXRDb250ZW50KGh0bWxfOGViZDRkY2ZhMDBjNDQyZTk3MDY2NDI3OWM4MTI2YzApOwogICAgICAgICAgICAKCiAgICAgICAgICAgIGNpcmNsZV9tYXJrZXJfNjZlMmJjMTA4YjdmNGFlYWIyYWRkYzI5Y2QwMDM2MjkuYmluZFBvcHVwKHBvcHVwX2YzZDlmMjcwMTM2YzQ5MTJiOGNiOTJhOTViNDgxNzQ5KTsKCiAgICAgICAgICAgIAogICAgICAgIAogICAgCiAgICAgICAgICAgIHZhciBjaXJjbGVfbWFya2VyXzI4OTAyZjI5Nzk0NjQ4NTZiYTNiZDcwYmI1MzNmYTBiID0gTC5jaXJjbGVNYXJrZXIoCiAgICAgICAgICAgICAgICBbMTkuNDI3OTAwNDU1NDQzMDY2LC05OS4xMzY2NDg2MDQ5OTc4Nl0sCiAgICAgICAgICAgICAgICB7CiAgImJ1YmJsaW5nTW91c2VFdmVudHMiOiB0cnVlLAogICJjb2xvciI6ICJyZWQiLAogICJkYXNoQXJyYXkiOiBudWxsLAogICJkYXNoT2Zmc2V0IjogbnVsbCwKICAiZmlsbCI6IHRydWUsCiAgImZpbGxDb2xvciI6ICIjMzE4NmNjIiwKICAiZmlsbE9wYWNpdHkiOiAwLjcsCiAgImZpbGxSdWxlIjogImV2ZW5vZGQiLAogICJsaW5lQ2FwIjogInJvdW5kIiwKICAibGluZUpvaW4iOiAicm91bmQiLAogICJvcGFjaXR5IjogMS4wLAogICJyYWRpdXMiOiA1LAogICJzdHJva2UiOiB0cnVlLAogICJ3ZWlnaHQiOiAzCn0KICAgICAgICAgICAgICAgICkuYWRkVG8obWFwX2JkMmYwMWJlMDMxMDRmYzJiOWU5NjE4YjFjNjlhNWFhKTsKICAgICAgICAgICAgCiAgICAKICAgICAgICAgICAgdmFyIHBvcHVwXzdmOTg3ZTc2YTQ4MjQ4NzliMDRiZjE2ZTM1MjVmMjc1ID0gTC5wb3B1cCh7bWF4V2lkdGg6ICczMDAnfSk7CgogICAgICAgICAgICAKICAgICAgICAgICAgICAgIHZhciBodG1sX2JlZDFmOGZhYWRjNzQyZGM4YTdkYmVlYmFhNTJhMjI5ID0gJCgnPGRpdiBpZD0iaHRtbF9iZWQxZjhmYWFkYzc0MmRjOGE3ZGJlZWJhYTUyYTIyOSIgc3R5bGU9IndpZHRoOiAxMDAuMCU7IGhlaWdodDogMTAwLjAlOyI+VmVjaW5vcyBPc3RlcsOtYTwvZGl2PicpWzBdOwogICAgICAgICAgICAgICAgcG9wdXBfN2Y5ODdlNzZhNDgyNDg3OWIwNGJmMTZlMzUyNWYyNzUuc2V0Q29udGVudChodG1sX2JlZDFmOGZhYWRjNzQyZGM4YTdkYmVlYmFhNTJhMjI5KTsKICAgICAgICAgICAgCgogICAgICAgICAgICBjaXJjbGVfbWFya2VyXzI4OTAyZjI5Nzk0NjQ4NTZiYTNiZDcwYmI1MzNmYTBiLmJpbmRQb3B1cChwb3B1cF83Zjk4N2U3NmE0ODI0ODc5YjA0YmYxNmUzNTI1ZjI3NSk7CgogICAgICAgICAgICAKICAgICAgICAKICAgIAogICAgICAgICAgICB2YXIgY2lyY2xlX21hcmtlcl81YzFkNGJiZjVhODM0ZGIyOWQ1NDBkZjVlYjZlMDI5OCA9IEwuY2lyY2xlTWFya2VyKAogICAgICAgICAgICAgICAgWzE5LjQyNjg1NSwtOTkuMTM1ODZdLAogICAgICAgICAgICAgICAgewogICJidWJibGluZ01vdXNlRXZlbnRzIjogdHJ1ZSwKICAiY29sb3IiOiAicmVkIiwKICAiZGFzaEFycmF5IjogbnVsbCwKICAiZGFzaE9mZnNldCI6IG51bGwsCiAgImZpbGwiOiB0cnVlLAogICJmaWxsQ29sb3IiOiAiIzMxODZjYyIsCiAgImZpbGxPcGFjaXR5IjogMC43LAogICJmaWxsUnVsZSI6ICJldmVub2RkIiwKICAibGluZUNhcCI6ICJyb3VuZCIsCiAgImxpbmVKb2luIjogInJvdW5kIiwKICAib3BhY2l0eSI6IDEuMCwKICAicmFkaXVzIjogNSwKICAic3Ryb2tlIjogdHJ1ZSwKICAid2VpZ2h0IjogMwp9CiAgICAgICAgICAgICAgICApLmFkZFRvKG1hcF9iZDJmMDFiZTAzMTA0ZmMyYjllOTYxOGIxYzY5YTVhYSk7CiAgICAgICAgICAgIAogICAgCiAgICAgICAgICAgIHZhciBwb3B1cF8xNWVkYTU2ZjQ1YjE0Nzg4YjJiMjQ4OTRkNDYwODVjNiA9IEwucG9wdXAoe21heFdpZHRoOiAnMzAwJ30pOwoKICAgICAgICAgICAgCiAgICAgICAgICAgICAgICB2YXIgaHRtbF8wZGVhYzE2MmM1MGU0MzU4YjllMDZkOTY1NDY4YzAzOCA9ICQoJzxkaXYgaWQ9Imh0bWxfMGRlYWMxNjJjNTBlNDM1OGI5ZTA2ZDk2NTQ2OGMwMzgiIHN0eWxlPSJ3aWR0aDogMTAwLjAlOyBoZWlnaHQ6IDEwMC4wJTsiPkRvw7FhIEluZXM8L2Rpdj4nKVswXTsKICAgICAgICAgICAgICAgIHBvcHVwXzE1ZWRhNTZmNDViMTQ3ODhiMmIyNDg5NGQ0NjA4NWM2LnNldENvbnRlbnQoaHRtbF8wZGVhYzE2MmM1MGU0MzU4YjllMDZkOTY1NDY4YzAzOCk7CiAgICAgICAgICAgIAoKICAgICAgICAgICAgY2lyY2xlX21hcmtlcl81YzFkNGJiZjVhODM0ZGIyOWQ1NDBkZjVlYjZlMDI5OC5iaW5kUG9wdXAocG9wdXBfMTVlZGE1NmY0NWIxNDc4OGIyYjI0ODk0ZDQ2MDg1YzYpOwoKICAgICAgICAgICAgCiAgICAgICAgCiAgICAKICAgICAgICAgICAgdmFyIGNpcmNsZV9tYXJrZXJfOWFiZDEwMmU2NmQ3NDUyMTllM2VlZjlhYzM4ZGY1ZTcgPSBMLmNpcmNsZU1hcmtlcigKICAgICAgICAgICAgICAgIFsxOS40MjcwNTg4MTg3MTUxNTcsLTk5LjEzNzA3MTU3NzU2NTY4XSwKICAgICAgICAgICAgICAgIHsKICAiYnViYmxpbmdNb3VzZUV2ZW50cyI6IHRydWUsCiAgImNvbG9yIjogInJlZCIsCiAgImRhc2hBcnJheSI6IG51bGwsCiAgImRhc2hPZmZzZXQiOiBudWxsLAogICJmaWxsIjogdHJ1ZSwKICAiZmlsbENvbG9yIjogIiMzMTg2Y2MiLAogICJmaWxsT3BhY2l0eSI6IDAuNywKICAiZmlsbFJ1bGUiOiAiZXZlbm9kZCIsCiAgImxpbmVDYXAiOiAicm91bmQiLAogICJsaW5lSm9pbiI6ICJyb3VuZCIsCiAgIm9wYWNpdHkiOiAxLjAsCiAgInJhZGl1cyI6IDUsCiAgInN0cm9rZSI6IHRydWUsCiAgIndlaWdodCI6IDMKfQogICAgICAgICAgICAgICAgKS5hZGRUbyhtYXBfYmQyZjAxYmUwMzEwNGZjMmI5ZTk2MThiMWM2OWE1YWEpOwogICAgICAgICAgICAKICAgIAogICAgICAgICAgICB2YXIgcG9wdXBfOWYzNmFlMzMxMjMyNGU1YTg2ZjlkYjYwNThjZWM5MjQgPSBMLnBvcHVwKHttYXhXaWR0aDogJzMwMCd9KTsKCiAgICAgICAgICAgIAogICAgICAgICAgICAgICAgdmFyIGh0bWxfN2M0NGQxNmJkYzI1NDdjYzgwMGVkYTI5NTFjZjdkZmEgPSAkKCc8ZGl2IGlkPSJodG1sXzdjNDRkMTZiZGMyNTQ3Y2M4MDBlZGEyOTUxY2Y3ZGZhIiBzdHlsZT0id2lkdGg6IDEwMC4wJTsgaGVpZ2h0OiAxMDAuMCU7Ij5FbCBDYW50w7NuPC9kaXY+JylbMF07CiAgICAgICAgICAgICAgICBwb3B1cF85ZjM2YWUzMzEyMzI0ZTVhODZmOWRiNjA1OGNlYzkyNC5zZXRDb250ZW50KGh0bWxfN2M0NGQxNmJkYzI1NDdjYzgwMGVkYTI5NTFjZjdkZmEpOwogICAgICAgICAgICAKCiAgICAgICAgICAgIGNpcmNsZV9tYXJrZXJfOWFiZDEwMmU2NmQ3NDUyMTllM2VlZjlhYzM4ZGY1ZTcuYmluZFBvcHVwKHBvcHVwXzlmMzZhZTMzMTIzMjRlNWE4NmY5ZGI2MDU4Y2VjOTI0KTsKCiAgICAgICAgICAgIAogICAgICAgIAogICAgCiAgICAgICAgICAgIHZhciBjaXJjbGVfbWFya2VyXzEwYTFiZjFhNmE2MDRjOTk5ZDM3Y2Q1YmEzNjRhMWM5ID0gTC5jaXJjbGVNYXJrZXIoCiAgICAgICAgICAgICAgICBbMTkuNDI4NDcsLTk5LjEyNzY2XSwKICAgICAgICAgICAgICAgIHsKICAiYnViYmxpbmdNb3VzZUV2ZW50cyI6IHRydWUsCiAgImNvbG9yIjogImdyZWVuIiwKICAiZGFzaEFycmF5IjogbnVsbCwKICAiZGFzaE9mZnNldCI6IG51bGwsCiAgImZpbGwiOiB0cnVlLAogICJmaWxsQ29sb3IiOiAiIzMxODZjYyIsCiAgImZpbGxPcGFjaXR5IjogMC43LAogICJmaWxsUnVsZSI6ICJldmVub2RkIiwKICAibGluZUNhcCI6ICJyb3VuZCIsCiAgImxpbmVKb2luIjogInJvdW5kIiwKICAib3BhY2l0eSI6IDEuMCwKICAicmFkaXVzIjogMTUsCiAgInN0cm9rZSI6IHRydWUsCiAgIndlaWdodCI6IDMKfQogICAgICAgICAgICAgICAgKS5hZGRUbyhtYXBfYmQyZjAxYmUwMzEwNGZjMmI5ZTk2MThiMWM2OWE1YWEpOwogICAgICAgICAgICAKICAgIAogICAgICAgICAgICB2YXIgcG9wdXBfNDkzMzQ4MzE5MzYxNDdhNTk3OWZlZDMyZmMxMGI0NzMgPSBMLnBvcHVwKHttYXhXaWR0aDogJzMwMCd9KTsKCiAgICAgICAgICAgIAogICAgICAgICAgICAgICAgdmFyIGh0bWxfMGVkNmQxZTM5OTU5NDAyNjhjYTZkMjJlYjBiZDg4ODIgPSAkKCc8ZGl2IGlkPSJodG1sXzBlZDZkMWUzOTk1OTQwMjY4Y2E2ZDIyZWIwYmQ4ODgyIiBzdHlsZT0id2lkdGg6IDEwMC4wJTsgaGVpZ2h0OiAxMDAuMCU7Ij5NeSBOZXcgQmFyITwvZGl2PicpWzBdOwogICAgICAgICAgICAgICAgcG9wdXBfNDkzMzQ4MzE5MzYxNDdhNTk3OWZlZDMyZmMxMGI0NzMuc2V0Q29udGVudChodG1sXzBlZDZkMWUzOTk1OTQwMjY4Y2E2ZDIyZWIwYmQ4ODgyKTsKICAgICAgICAgICAgCgogICAgICAgICAgICBjaXJjbGVfbWFya2VyXzEwYTFiZjFhNmE2MDRjOTk5ZDM3Y2Q1YmEzNjRhMWM5LmJpbmRQb3B1cChwb3B1cF80OTMzNDgzMTkzNjE0N2E1OTc5ZmVkMzJmYzEwYjQ3Myk7CgogICAgICAgICAgICAKICAgICAgICAKPC9zY3JpcHQ+ onload=\"this.contentDocument.open();this.contentDocument.write(atob(this.getAttribute('data-html')));this.contentDocument.close();\" allowfullscreen webkitallowfullscreen mozallowfullscreen></iframe></div></div>"
      ],
      "text/plain": [
       "<folium.folium.Map at 0x7f176ea16c10>"
      ]
     },
     "execution_count": 17,
     "metadata": {},
     "output_type": "execute_result"
    }
   ],
   "source": [
    "lat = 19.42847\n",
    "lng = -99.12766\n",
    "map_mc = folium.Map(location=[lat, lng], zoom_start=16)\n",
    "add_markers(df)\n",
    "folium.CircleMarker(\n",
    "    [lat, lng],\n",
    "    radius=15,\n",
    "    popup=\"My New Bar!\",\n",
    "    color='green',\n",
    "    fill=True,\n",
    "    fill_color='#3186cc',\n",
    "    fill_opacity=0.7,\n",
    "    parse_html=False).add_to(map_mc)\n",
    "map_mc"
   ]
  },
  {
   "cell_type": "markdown",
   "metadata": {},
   "source": [
    "**Here we can see the hypothetical place where the new bar will be. It is a place in the center of Mexico City near tourist places where nightlife is better in the company of friends and why not a good drink.**  "
   ]
  }
 ],
 "metadata": {
  "kernelspec": {
   "display_name": "Python 3",
   "language": "python",
   "name": "python3"
  },
  "language_info": {
   "codemirror_mode": {
    "name": "ipython",
    "version": 3
   },
   "file_extension": ".py",
   "mimetype": "text/x-python",
   "name": "python",
   "nbconvert_exporter": "python",
   "pygments_lexer": "ipython3",
   "version": "3.7.6"
  }
 },
 "nbformat": 4,
 "nbformat_minor": 4
}
